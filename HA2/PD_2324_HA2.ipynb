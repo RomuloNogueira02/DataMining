{
 "cells": [
  {
   "cell_type": "markdown",
   "id": "3987eef7-af22-4633-a6ac-1ac3b1a6be76",
   "metadata": {},
   "source": [
    "# Prospecção de Dados (Data Mining) DI/FCUL - HA2\n",
    "\n",
    "## Second Home Assignement (MC/DI/FCUL - 2024)\n",
    "\n",
    "### Fill in the section below\n",
    "\n",
    "### GROUP:`01` \n",
    "\n",
    "* Catherine Prokhorov (62608) - () Hours worked on the project\n",
    "* Guilherme Cepeda (62931) - () Hours worked on the project\r",
    "* Jorge Aleluia (54549) - () Hours worked on the project \r",
    "* \n",
    "Rómulo Nogueira (56935) -()  Hours worked on the project\n"
   ]
  },
  {
   "cell_type": "markdown",
   "id": "45ae0373-c651-4cfe-b4a4-42e9db6bd7e6",
   "metadata": {},
   "source": [
    "\n",
    "## Objectives\n",
    "The purpose of this Home Assignment is:\n",
    "\n",
    "1. Analyze the itemset/rules generation procedure\n",
    "2. Process and identify the most relevant rules\n",
    "\n",
    "**NOTE 1: Students are not allowed to add more cells to the notebook**\n",
    "\n",
    "**NOTE 2: The notebook must be submited fully executed**\n"
   ]
  },
  {
   "cell_type": "markdown",
   "id": "15a40f24-0da5-4b96-90f3-84259cbd1bc5",
   "metadata": {},
   "source": [
    "### 1. Read the Dataset\n",
    "\n",
    "Dataset: Instacart [Market Basket Analysis](https://www.kaggle.com/datasets/psparks/instacart-market-basket-analysis)\n",
    "\n",
    "\n",
    "\n",
    "The purpose of this Home Assignment is:\n",
    "\n",
    "1. Analyze the itemset/rules generation procedure\n",
    "2. Identify the most relevant rules\n",
    "\n",
    "Please download the HA files from this moodle folder and inspect it like this:\n",
    "**NOTE 1: Students are not allowed to add more cells to the notebook**\n",
    "\n",
    "**NOTE 2: The notebook must be submited fully executed**\n",
    "\n",
    "The dataset has been preprocessed with transactions as lists of integers. It is necessary a decoder to see the actual products bought together\n",
    "\n",
    "Uncompress the data set (zip file) which will produce 2 files:\n",
    "* `order_products.pickle` a Python pickle with all the trasactions\n",
    "* A `products.txt` - decoder table with all the data relative to each item\n",
    "\n"
   ]
  },
  {
   "cell_type": "code",
   "execution_count": 8,
   "id": "d8ae8af3-04f6-49ce-a093-0f5cc1dcc26c",
   "metadata": {
    "tags": []
   },
   "outputs": [
    {
     "name": "stdout",
     "output_type": "stream",
     "text": [
      "Transaction 2 is [33120, 28985, 9327, 45918, 30035, 17794, 40141, 1819, 43668]\n",
      "Code: 33120 is product: Organic Egg Whites\n",
      "Code: 28985 is product: Michigan Organic Kale\n",
      "Code:  9327 is product: Garlic Powder\n",
      "Code: 45918 is product: Coconut Butter\n",
      "Code: 30035 is product: Natural Sweetener\n",
      "Code: 17794 is product: Carrots\n",
      "Code: 40141 is product: Original Unflavored Gelatine Mix\n",
      "Code:  1819 is product: All Natural No Stir Creamy Almond Butter\n",
      "Code: 43668 is product: Classic Blend Cole Slaw\n"
     ]
    }
   ],
   "source": [
    "#Read product names and IDs\n",
    "lines=open(\"products.txt\", \"rt\", encoding=\"utf8\").readlines()\n",
    "products=[0]*len(lines)\n",
    "for lin in lines[1:]:\n",
    "    pid, pname, aid, did=lin.strip().split(\"\\t\")    \n",
    "    products[int(pid)]=pname\n",
    "    \n",
    "#read transactions\n",
    "import pickle\n",
    "orders=pickle.load(open(\"order_products.pickle\", \"rb\"))\n",
    "\n",
    "#check names of products on transaction 2 (example):\n",
    "print(\"Transaction 2 is\", orders[2])\n",
    "for prod in orders[2]: print(\"Code: %5d is product: %s\" %(prod, products[prod]))"
   ]
  },
  {
   "cell_type": "markdown",
   "id": "73946fe0-a7ee-4554-87f5-6c8efc3a275f",
   "metadata": {},
   "source": [
    "### Objective 1 - Analyze the itemset/rules generation procedure\n",
    "\n",
    "1. From the approaches used in classes make a performance analysis up to a threshold level of support\n",
    "2. Define a good support threshold for analysis according to your computational capabilities\n"
   ]
  },
  {
   "cell_type": "code",
   "execution_count": null,
   "id": "de744174-1989-42af-9e78-0948ea801ace",
   "metadata": {},
   "outputs": [],
   "source": [
    "### Add supporting functions here\n"
   ]
  },
  {
   "cell_type": "code",
   "execution_count": null,
   "id": "0e664c47-38e6-41dc-b5b3-c2c43f033cd6",
   "metadata": {},
   "outputs": [],
   "source": [
    "### Add processing code here\n"
   ]
  },
  {
   "cell_type": "markdown",
   "id": "6a016c52-c66e-4499-8233-5631923eb695",
   "metadata": {},
   "source": [
    "### Your short analysis here\n",
    "\n",
    "Lorem ipsum dolor sit amet, consectetur adipiscing elit, sed do eiusmod tempor incididunt ut labore et dolore magna aliqua. Ut enim ad minim veniam, quis nostrud exercitation ullamco laboris nisi ut aliquip ex ea commodo consequat. Duis aute irure dolor in reprehenderit in voluptate velit esse cillum dolore eu fugiat nulla pariatur. Excepteur sint occaecat cupidatat non proident, sunt in culpa qui officia deserunt mollit anim id est laborum"
   ]
  },
  {
   "cell_type": "markdown",
   "id": "853614f3-1e1b-4481-9784-e29dd0b453cb",
   "metadata": {},
   "source": [
    "### Objective 2 - Identify the most relevant rules\n",
    "\n",
    "1. From your predefined support level generate all available itemsets and generate rules\n",
    "2. Identify a set of 10 relevant rules using the Highest Lift criterion\n",
    "    * **NOTE**: Present the rules with the product names and not as Integers \n",
    "3. Identify the Maximal and Closed Itemsets for the same level of support and generate 5 rules using the Highest Lift\n",
    "    * **NOTE**: Do not list the Maximal or Closed Itemsets. Present just a few as an example and mention **how many** Closed and Maximal Itemsets were found for the selected support level\n",
    "    * **NOTE**: Present the rules with the product names and not as Integers \n"
   ]
  },
  {
   "cell_type": "code",
   "execution_count": null,
   "id": "ead806d9-8073-4fc0-9668-68ad0b89077f",
   "metadata": {},
   "outputs": [],
   "source": [
    "### Add supporting functions here\n",
    "\n"
   ]
  },
  {
   "cell_type": "code",
   "execution_count": null,
   "id": "ad80328c-ffba-4bb6-8ce3-03726ee82348",
   "metadata": {},
   "outputs": [],
   "source": [
    "### Add processing code here\n",
    "\n"
   ]
  },
  {
   "cell_type": "markdown",
   "id": "322a87b8-4102-43ff-ac7c-e748df7bcd1f",
   "metadata": {},
   "source": [
    "### Your short analysis here\n",
    "\n",
    "Lorem ipsum dolor sit amet, consectetur adipiscing elit, sed do eiusmod tempor incididunt ut labore et dolore magna aliqua. Ut enim ad minim veniam, quis nostrud exercitation ullamco laboris nisi ut aliquip ex ea commodo consequat. Duis aute irure dolor in reprehenderit in voluptate velit esse cillum dolore eu fugiat nulla pariatur. Excepteur sint occaecat cupidatat non proident, sunt in culpa qui officia deserunt mollit anim id est laborum\n"
   ]
  }
 ],
 "metadata": {
  "kernelspec": {
   "display_name": "Python 3 (ipykernel)",
   "language": "python",
   "name": "python3"
  },
  "language_info": {
   "codemirror_mode": {
    "name": "ipython",
    "version": 3
   },
   "file_extension": ".py",
   "mimetype": "text/x-python",
   "name": "python",
   "nbconvert_exporter": "python",
   "pygments_lexer": "ipython3",
   "version": "3.11.4"
  }
 },
 "nbformat": 4,
 "nbformat_minor": 5
}
