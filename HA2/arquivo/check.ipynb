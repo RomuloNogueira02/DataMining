{
 "cells": [
  {
   "cell_type": "code",
   "execution_count": 1,
   "metadata": {},
   "outputs": [
    {
     "name": "stdout",
     "output_type": "stream",
     "text": [
      "Transaction 2 is [33120, 28985, 9327, 45918, 30035, 17794, 40141, 1819, 43668]\n",
      "Code: 33120 is product: Organic Egg Whites\n",
      "Code: 28985 is product: Michigan Organic Kale\n",
      "Code:  9327 is product: Garlic Powder\n",
      "Code: 45918 is product: Coconut Butter\n",
      "Code: 30035 is product: Natural Sweetener\n",
      "Code: 17794 is product: Carrots\n",
      "Code: 40141 is product: Original Unflavored Gelatine Mix\n",
      "Code:  1819 is product: All Natural No Stir Creamy Almond Butter\n",
      "Code: 43668 is product: Classic Blend Cole Slaw\n"
     ]
    }
   ],
   "source": [
    "#Read product names and IDs\n",
    "lines=open(\"products.txt\", \"rt\", encoding=\"utf8\").readlines()\n",
    "products=[0]*len(lines)\n",
    "for lin in lines[1:]:\n",
    "    pid, pname, aid, did=lin.strip().split(\"\\t\")    \n",
    "    products[int(pid)]=pname\n",
    "    \n",
    "#read transactions\n",
    "import pickle\n",
    "orders=pickle.load(open(\"order_products.pickle\", \"rb\"))\n",
    "\n",
    "#check names of products on transaction 2 (example):\n",
    "print(\"Transaction 2 is\", orders[2])\n",
    "for prod in orders[2]: print(\"Code: %5d is product: %s\" %(prod, products[prod]))"
   ]
  },
  {
   "cell_type": "code",
   "execution_count": 3,
   "metadata": {},
   "outputs": [],
   "source": [
    "a = \"with Xylitol Unwrapped Original Flavor 50 Sticks Sugar Free Gum\""
   ]
  },
  {
   "cell_type": "code",
   "execution_count": 8,
   "metadata": {},
   "outputs": [],
   "source": [
    "\n",
    "def getTransactions(orders, products):\n",
    "    return list(map(lambda i: list(map(lambda prod: products[prod], orders[i])), orders.keys()))\n",
    "\n",
    "transactions = getTransactions(orders, products)"
   ]
  },
  {
   "cell_type": "code",
   "execution_count": 10,
   "metadata": {},
   "outputs": [
    {
     "data": {
      "text/plain": [
       "37"
      ]
     },
     "execution_count": 10,
     "metadata": {},
     "output_type": "execute_result"
    }
   ],
   "source": [
    "c = 0\n",
    "for t in transactions:\n",
    "    if a in t:\n",
    "        c += 1\n",
    "\n",
    "c"
   ]
  }
 ],
 "metadata": {
  "kernelspec": {
   "display_name": "Python 3",
   "language": "python",
   "name": "python3"
  },
  "language_info": {
   "codemirror_mode": {
    "name": "ipython",
    "version": 3
   },
   "file_extension": ".py",
   "mimetype": "text/x-python",
   "name": "python",
   "nbconvert_exporter": "python",
   "pygments_lexer": "ipython3",
   "version": "3.11.2"
  }
 },
 "nbformat": 4,
 "nbformat_minor": 2
}
