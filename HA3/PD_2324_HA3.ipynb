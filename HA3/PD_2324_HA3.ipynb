{
 "cells": [
  {
   "cell_type": "markdown",
   "id": "3987eef7-af22-4633-a6ac-1ac3b1a6be76",
   "metadata": {},
   "source": [
    "# Prospecção de Dados (Data Mining) DI/FCUL - HA3\n",
    "\n",
    "## Third Home Assignement (MC/DI/FCUL - 2024)\n",
    "\n",
    "### Fill in the section below\n",
    "\n",
    "### GROUP:`01` \n",
    "\n",
    "* Catherine Prokhorov (62608) - `X` Hours worked on the project\n",
    "* Guilherme Cepeda (62931) - `X` Hours worked on the project\n",
    "* Jorge Aleluia (54549) - `X` Hours worked on the project \n",
    "* Rómulo Nogueira (56935) - `X` Hours worked on the project\n"
   ]
  },
  {
   "cell_type": "markdown",
   "id": "45ae0373-c651-4cfe-b4a4-42e9db6bd7e6",
   "metadata": {},
   "source": [
    "The purpose of this Home Assignment is:\n",
    "\n",
    "- Find similar items with Local Sensitivity Hashing\n",
    "- Do Dimensionality Reduction\n",
    "\n",
    "**NOTE 1: Students are not allowed to add more cells to the notebook**\n",
    "\n",
    "**NOTE 2: The notebook must be submited fully executed**\n",
    "\n",
    "**NOTE 3: Name of notebook should be: HA3_GROUP-XX.ipynb (where XX is the group number)**"
   ]
  },
  {
   "cell_type": "markdown",
   "id": "15a40f24-0da5-4b96-90f3-84259cbd1bc5",
   "metadata": {},
   "source": [
    "### 1. Read the Dataset\n",
    "\n",
    "DThe dataset correspond to about 99% of the Human Proteome (set of known Human Proteins - about 19,500), coded with specific structural elements. They are presented in a dictionary where the key is the [UniprotID](https://www.uniprot.org/) of the protein and the value is a set of indices of a specific structural characteristic\n",
    "\n",
    "\n",
    "Students can use one of two datasets, that are not subsets of each other:\n",
    "- `data_d3.pickle` - smaller set of structural features (2048)\n",
    "- `data_d4.pickle` - much larger set of structural features (20736) **Note**: This dataset has been Zipped to fit into moodle. Students should unzip it before usage\n",
    "\n",
    "Select **one** of the datasets and perform all analyses with it.\n",
    "\n",
    "It may be adviseable the usage of sparse matrices, especially for the `d4` dataset\n",
    "\n"
   ]
  },
  {
   "cell_type": "code",
   "execution_count": 1,
   "id": "bce8656e",
   "metadata": {},
   "outputs": [],
   "source": [
    "### Your code here"
   ]
  },
  {
   "cell_type": "markdown",
   "id": "73946fe0-a7ee-4554-87f5-6c8efc3a275f",
   "metadata": {},
   "source": [
    "### 2. Perform Local Sensitivity Hashing (LSH)\n",
    "\n",
    "- examine the selected dataset in terms of similarities and select a set of LSH parameters able to capture the most similar proteins\n",
    "- Comment your results\n",
    "\n",
    "**BONUS POINTS**: It might be interesting to identify **some** of the candidate pairs in Uniprot, to check if they share some of the same properties (e.g. for [protein P28223](https://www.uniprot.org/uniprotkb/P28223/entry))\n"
   ]
  },
  {
   "cell_type": "code",
   "execution_count": 2,
   "id": "de744174-1989-42af-9e78-0948ea801ace",
   "metadata": {},
   "outputs": [],
   "source": [
    "### Add supporting functions here\n"
   ]
  },
  {
   "cell_type": "code",
   "execution_count": 3,
   "id": "0e664c47-38e6-41dc-b5b3-c2c43f033cd6",
   "metadata": {},
   "outputs": [],
   "source": [
    "### Add processing code here\n"
   ]
  },
  {
   "cell_type": "markdown",
   "id": "6a016c52-c66e-4499-8233-5631923eb695",
   "metadata": {},
   "source": [
    "##### Your short analysis here"
   ]
  },
  {
   "cell_type": "markdown",
   "id": "853614f3-1e1b-4481-9784-e29dd0b453cb",
   "metadata": {},
   "source": [
    "### 3. Do dimensionality reduction\n",
    "\n",
    "Use the techniques discussued in class to make an appropriate dimensional reduction of the selected dataset. It is not necesary to be extensive, **it is better to select one approach and do it well than try a lot of techniques with poor insights and analysis**\n",
    "\n",
    "It is important to do some sensitivity analysis, relating the dataset size reduction to the loss of information"
   ]
  },
  {
   "cell_type": "code",
   "execution_count": 4,
   "id": "ead806d9-8073-4fc0-9668-68ad0b89077f",
   "metadata": {},
   "outputs": [],
   "source": [
    "### Add supporting functions here"
   ]
  },
  {
   "cell_type": "code",
   "execution_count": 5,
   "id": "ad80328c-ffba-4bb6-8ce3-03726ee82348",
   "metadata": {},
   "outputs": [],
   "source": [
    "### Add processing code here\n"
   ]
  },
  {
   "cell_type": "markdown",
   "id": "5925562c-ef3d-4c2d-b8bc-c9a88c72f53c",
   "metadata": {},
   "source": [
    "##### Your short analysis here"
   ]
  },
  {
   "cell_type": "markdown",
   "id": "bf866497",
   "metadata": {},
   "source": [
    "### 3. Discuss your findings [to fill on your own]\n",
    "\n",
    "- Comment your results above\n",
    "- Discuss how could they be used for the full Uniprot that currently has about (248 Million proteins)[https://www.uniprot.org/uniprotkb/statistics]\n"
   ]
  }
 ],
 "metadata": {
  "kernelspec": {
   "display_name": "Python 3 (ipykernel)",
   "language": "python",
   "name": "python3"
  },
  "language_info": {
   "codemirror_mode": {
    "name": "ipython",
    "version": 3
   },
   "file_extension": ".py",
   "mimetype": "text/x-python",
   "name": "python",
   "nbconvert_exporter": "python",
   "pygments_lexer": "ipython3",
   "version": "3.11.2"
  }
 },
 "nbformat": 4,
 "nbformat_minor": 5
}
