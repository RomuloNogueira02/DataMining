{
 "cells": [
  {
   "cell_type": "markdown",
   "id": "79045275-816a-469e-ab50-85cb76015c69",
   "metadata": {},
   "source": [
    "### Prospeção de Dados 2023/2024 - Course Project\n",
    "#### Professor: André Falcão\n",
    "#### Alunos: \n",
    "\n",
    "Catherine Prokhorov (62608) - XX Hours <br>\n",
    "Guilherme Cepeda (62931) - XX Hours <br>\n",
    "Jorge Aleluia (54549) - XX Hours <br>\n",
    "Rómulo Nogueira (56935) - XX Hours <br>"
   ]
  },
  {
   "cell_type": "markdown",
   "id": "910ff294-0897-425b-966b-1018502a196c",
   "metadata": {},
   "source": [
    "#### Library"
   ]
  },
  {
   "cell_type": "code",
   "execution_count": 1,
   "id": "ebeda1b7-3d3b-4e61-ab82-8ad7077f164a",
   "metadata": {},
   "outputs": [],
   "source": [
    "import pickle\n",
    "import pandas as pd\n",
    "from sklearn.feature_extraction import DictVectorizer\n",
    "from sklearn.model_selection import train_test_split"
   ]
  },
  {
   "cell_type": "code",
   "execution_count": 5,
   "id": "4d85a0eb-0ee9-469e-9dab-84f164cb33b0",
   "metadata": {},
   "outputs": [],
   "source": [
    "train_columns = ['mol_id', 'chembl_id', 'activity']\n",
    "test_columns = ['mol_id', 'chembl_id', 'activity']\n",
    "\n",
    "## import the data\n",
    "activity_train = pd.read_csv(\"activity_train.csv\", names = train_columns, header = None)\n",
    "activity_test_blanked = pd.read_csv(\"activity_test_blanked.csv\", names = test_columns, header = None)\n",
    "\n",
    "with open(\"mol_bits.pkl\", \"rb\") as f:\n",
    "    mol_bits = pickle.load(f)"
   ]
  },
  {
   "cell_type": "code",
   "execution_count": 3,
   "id": "7acc8a4e-c8e9-4df4-90b3-f657c7313ec5",
   "metadata": {},
   "outputs": [
    {
     "name": "stdout",
     "output_type": "stream",
     "text": [
      "   mol_id       chembl_id  activity\n",
      "0  O14842   CHEMBL2022243         4\n",
      "1  O14842   CHEMBL2022244         6\n",
      "2  O14842   CHEMBL2022245         2\n",
      "3  O14842   CHEMBL2022246         1\n",
      "4  O14842   CHEMBL2022247         4\n",
      "   mol_id       chembl_id  activity\n",
      "0  O14842   CHEMBL2022258         0\n",
      "1  O14842   CHEMBL2047161         0\n",
      "2  O14842   CHEMBL2047163         0\n",
      "3  O14842   CHEMBL2047168         0\n",
      "4  O14842   CHEMBL2047169         0\n"
     ]
    }
   ],
   "source": [
    "print(activity_train.head())\n",
    "print(activity_test_blanked.head())"
   ]
  },
  {
   "cell_type": "code",
   "execution_count": 4,
   "id": "b2b84182-7597-4c52-952e-c5f990bfccba",
   "metadata": {},
   "outputs": [],
   "source": [
    "X_train_activity = activity_train.drop(columns=['activity'])\n",
    "y_train_activity = activity_train['activity']\n",
    "\n",
    "# print(X_train.head())\n",
    "# print(y_train.head())"
   ]
  },
  {
   "cell_type": "code",
   "execution_count": 5,
   "id": "be32b9d0-5810-44d5-8be0-18d521b9ae77",
   "metadata": {},
   "outputs": [],
   "source": [
    "# Converter fingerprints para uma representação binária\n",
    "vectorizer = DictVectorizer(sparse = False)\n",
    "\n",
    "# dados ausentes\n",
    "def map_mol_bits(mol_id):\n",
    "    if mol_id in mol_bits:\n",
    "        return mol_bits[mol_id]\n",
    "    else:\n",
    "        return []\n",
    "\n",
    "X_train_bits = [dict(zip(bits, [1]*len(bits))) for bits in activity_train['mol_id'].map(map_mol_bits)]\n",
    "X_test_bits = [dict(zip(bits, [1]*len(bits))) for bits in activity_test_blanked['mol_id'].map(map_mol_bits)]\n",
    "\n",
    "# transformar em matriz binária \n",
    "X_train_matrix = vectorizer.fit_transform(X_train_bits)\n",
    "X_test_matrix = vectorizer.fit_transform(X_test_bits)"
   ]
  },
  {
   "cell_type": "code",
   "execution_count": 6,
   "id": "9393a249-0df1-4a2f-8d10-b527431225fe",
   "metadata": {},
   "outputs": [],
   "source": [
    "X_train, X_test, y_train, y_test = train_test_split(X_train_matrix, y_train_activity, test_size=0.2, random_state=42)"
   ]
  },
  {
   "cell_type": "code",
   "execution_count": null,
   "id": "1932ffc8",
   "metadata": {},
   "outputs": [],
   "source": []
  }
 ],
 "metadata": {
  "kernelspec": {
   "display_name": "Python 3 (ipykernel)",
   "language": "python",
   "name": "python3"
  },
  "language_info": {
   "codemirror_mode": {
    "name": "ipython",
    "version": 3
   },
   "file_extension": ".py",
   "mimetype": "text/x-python",
   "name": "python",
   "nbconvert_exporter": "python",
   "pygments_lexer": "ipython3",
   "version": "3.11.5"
  }
 },
 "nbformat": 4,
 "nbformat_minor": 5
}
