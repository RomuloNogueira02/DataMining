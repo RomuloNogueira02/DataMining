{
 "cells": [
  {
   "cell_type": "markdown",
   "id": "79045275-816a-469e-ab50-85cb76015c69",
   "metadata": {},
   "source": [
    "### Prospeção de Dados 2023/2024 - Course Project\n",
    "#### Professor: André Falcão\n",
    "#### Alunos: \n",
    "\n",
    "Catherine Prokhorov (62608) - XX Hours <br>\n",
    "Guilherme Cepeda (62931) - XX Hours <br>\n",
    "Jorge Aleluia (54549) - XX Hours <br>\n",
    "Rómulo Nogueira (56935) - XX Hours <br>"
   ]
  },
  {
   "cell_type": "markdown",
   "id": "910ff294-0897-425b-966b-1018502a196c",
   "metadata": {},
   "source": [
    "#### Library"
   ]
  },
  {
   "cell_type": "code",
   "execution_count": 1,
   "id": "ebeda1b7-3d3b-4e61-ab82-8ad7077f164a",
   "metadata": {},
   "outputs": [],
   "source": [
    "import pickle\n",
    "import pandas as pd"
   ]
  },
  {
   "cell_type": "code",
   "execution_count": 8,
   "id": "4d85a0eb-0ee9-469e-9dab-84f164cb33b0",
   "metadata": {},
   "outputs": [],
   "source": [
    "## import the data\n",
    "\n",
    "train_columns = ['mol_id', 'chembl_id', 'activity']\n",
    "test_columns = ['mol_id', 'chembl_id', 'activity']\n",
    "\n",
    "\n",
    "activity_train = pd.read_csv(\"activity_train.csv\", names = train_columns, header = None)\n",
    "activity_test_blanked = pd.read_csv(\"activity_test_blanked.csv\", names = test_columns, header = None)\n",
    "\n",
    "with open(\"mol_bits.pkl\", \"rb\") as f:\n",
    "    mol_bits = pickle.load(f)"
   ]
  },
  {
   "cell_type": "code",
   "execution_count": 15,
   "id": "7acc8a4e-c8e9-4df4-90b3-f657c7313ec5",
   "metadata": {},
   "outputs": [
    {
     "name": "stdout",
     "output_type": "stream",
     "text": [
      "   mol_id       chembl_id  activity\n",
      "0  O14842   CHEMBL2022243         4\n",
      "1  O14842   CHEMBL2022244         6\n",
      "2  O14842   CHEMBL2022245         2\n",
      "3  O14842   CHEMBL2022246         1\n",
      "4  O14842   CHEMBL2022247         4\n",
      "   mol_id       chembl_id  activity\n",
      "0  O14842   CHEMBL2022258         0\n",
      "1  O14842   CHEMBL2047161         0\n",
      "2  O14842   CHEMBL2047163         0\n",
      "3  O14842   CHEMBL2047168         0\n",
      "4  O14842   CHEMBL2047169         0\n"
     ]
    }
   ],
   "source": [
    "print(activity_train.head())\n",
    "print(activity_test_blanked.head())"
   ]
  },
  {
   "cell_type": "code",
   "execution_count": 14,
   "id": "b2b84182-7597-4c52-952e-c5f990bfccba",
   "metadata": {},
   "outputs": [
    {
     "name": "stdout",
     "output_type": "stream",
     "text": [
      "   mol_id       chembl_id\n",
      "0  O14842   CHEMBL2022243\n",
      "1  O14842   CHEMBL2022244\n",
      "2  O14842   CHEMBL2022245\n",
      "3  O14842   CHEMBL2022246\n",
      "4  O14842   CHEMBL2022247\n",
      "0    4\n",
      "1    6\n",
      "2    2\n",
      "3    1\n",
      "4    4\n",
      "Name: activity, dtype: int64\n"
     ]
    }
   ],
   "source": [
    "X_train = activity_train.drop(columns=['activity'])\n",
    "y_train = activity_train['activity']\n",
    "\n",
    "# print(X_train.head())\n",
    "# print(y_train.head())"
   ]
  }
 ],
 "metadata": {
  "kernelspec": {
   "display_name": "Python 3 (ipykernel)",
   "language": "python",
   "name": "python3"
  },
  "language_info": {
   "codemirror_mode": {
    "name": "ipython",
    "version": 3
   },
   "file_extension": ".py",
   "mimetype": "text/x-python",
   "name": "python",
   "nbconvert_exporter": "python",
   "pygments_lexer": "ipython3",
   "version": "3.11.4"
  }
 },
 "nbformat": 4,
 "nbformat_minor": 5
}
