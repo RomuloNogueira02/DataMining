{
 "cells": [
  {
   "cell_type": "code",
   "execution_count": 1,
   "metadata": {},
   "outputs": [],
   "source": [
    "from scipy.sparse import csr_array\n",
    "\n",
    "import pandas as pd\n",
    "import numpy as np\n",
    "\n",
    "import matplotlib.pyplot as plt"
   ]
  },
  {
   "cell_type": "code",
   "execution_count": 2,
   "metadata": {},
   "outputs": [
    {
     "data": {
      "text/html": [
       "<div>\n",
       "<style scoped>\n",
       "    .dataframe tbody tr th:only-of-type {\n",
       "        vertical-align: middle;\n",
       "    }\n",
       "\n",
       "    .dataframe tbody tr th {\n",
       "        vertical-align: top;\n",
       "    }\n",
       "\n",
       "    .dataframe thead th {\n",
       "        text-align: right;\n",
       "    }\n",
       "</style>\n",
       "<table border=\"1\" class=\"dataframe\">\n",
       "  <thead>\n",
       "    <tr style=\"text-align: right;\">\n",
       "      <th></th>\n",
       "      <th>uniprot_id</th>\n",
       "      <th>mol_id</th>\n",
       "      <th>activity</th>\n",
       "    </tr>\n",
       "  </thead>\n",
       "  <tbody>\n",
       "    <tr>\n",
       "      <th>0</th>\n",
       "      <td>O14842</td>\n",
       "      <td>CHEMBL2022243</td>\n",
       "      <td>4</td>\n",
       "    </tr>\n",
       "    <tr>\n",
       "      <th>1</th>\n",
       "      <td>O14842</td>\n",
       "      <td>CHEMBL2022244</td>\n",
       "      <td>6</td>\n",
       "    </tr>\n",
       "    <tr>\n",
       "      <th>2</th>\n",
       "      <td>O14842</td>\n",
       "      <td>CHEMBL2022245</td>\n",
       "      <td>2</td>\n",
       "    </tr>\n",
       "    <tr>\n",
       "      <th>3</th>\n",
       "      <td>O14842</td>\n",
       "      <td>CHEMBL2022246</td>\n",
       "      <td>1</td>\n",
       "    </tr>\n",
       "    <tr>\n",
       "      <th>4</th>\n",
       "      <td>O14842</td>\n",
       "      <td>CHEMBL2022247</td>\n",
       "      <td>4</td>\n",
       "    </tr>\n",
       "    <tr>\n",
       "      <th>...</th>\n",
       "      <td>...</td>\n",
       "      <td>...</td>\n",
       "      <td>...</td>\n",
       "    </tr>\n",
       "    <tr>\n",
       "      <th>135706</th>\n",
       "      <td>Q9Y5Y4</td>\n",
       "      <td>CHEMBL4214909</td>\n",
       "      <td>6</td>\n",
       "    </tr>\n",
       "    <tr>\n",
       "      <th>135707</th>\n",
       "      <td>Q9Y5Y4</td>\n",
       "      <td>CHEMBL4218012</td>\n",
       "      <td>2</td>\n",
       "    </tr>\n",
       "    <tr>\n",
       "      <th>135708</th>\n",
       "      <td>Q9Y5Y4</td>\n",
       "      <td>CHEMBL4217503</td>\n",
       "      <td>7</td>\n",
       "    </tr>\n",
       "    <tr>\n",
       "      <th>135709</th>\n",
       "      <td>Q9Y5Y4</td>\n",
       "      <td>CHEMBL4204359</td>\n",
       "      <td>8</td>\n",
       "    </tr>\n",
       "    <tr>\n",
       "      <th>135710</th>\n",
       "      <td>Q9Y5Y4</td>\n",
       "      <td>CHEMBL4209228</td>\n",
       "      <td>6</td>\n",
       "    </tr>\n",
       "  </tbody>\n",
       "</table>\n",
       "<p>135711 rows × 3 columns</p>\n",
       "</div>"
      ],
      "text/plain": [
       "       uniprot_id          mol_id  activity\n",
       "0          O14842   CHEMBL2022243         4\n",
       "1          O14842   CHEMBL2022244         6\n",
       "2          O14842   CHEMBL2022245         2\n",
       "3          O14842   CHEMBL2022246         1\n",
       "4          O14842   CHEMBL2022247         4\n",
       "...           ...             ...       ...\n",
       "135706     Q9Y5Y4   CHEMBL4214909         6\n",
       "135707     Q9Y5Y4   CHEMBL4218012         2\n",
       "135708     Q9Y5Y4   CHEMBL4217503         7\n",
       "135709     Q9Y5Y4   CHEMBL4204359         8\n",
       "135710     Q9Y5Y4   CHEMBL4209228         6\n",
       "\n",
       "[135711 rows x 3 columns]"
      ]
     },
     "execution_count": 2,
     "metadata": {},
     "output_type": "execute_result"
    }
   ],
   "source": [
    "ACTIVITY_TRAIN = pd.read_csv('../activity_train.csv', names=['uniprot_id', 'mol_id', 'activity'])\n",
    "ACTIVITY_TRAIN"
   ]
  },
  {
   "attachments": {},
   "cell_type": "markdown",
   "metadata": {},
   "source": [
    "Maybe we should have a matrix like...\n",
    "\n",
    "```\n",
    "    , unitprot1 , unitprot2, unitprot3, unitprot4, ...\n",
    "mol1,     1     ,     5    ,          ,     10    , ...\n",
    "mol2,           ,     1    ,     6     ,     1    , ...\n",
    "...\n",
    "\n",
    "```"
   ]
  },
  {
   "cell_type": "code",
   "execution_count": 3,
   "metadata": {},
   "outputs": [],
   "source": [
    "def CosSim_Matrix(M):\n",
    "    norms=np.sqrt(np.sum(M*M, axis=1))\n",
    "    norms[norms<0.001]=0.001  #this will solve rows or cols without variance\n",
    "    norms_M = np.outer(norms, norms) # ESTA LINHA FAZ CRASHAR O PC\n",
    "    VC=M.copy()\n",
    "    return np.dot(VC, VC.T)/norms_M\n",
    "\n",
    "def RowCenterMatrix(M):\n",
    "    V  = M.T\n",
    "    mat= np.nanmean(V, axis=0)\n",
    "    VC = V - mat\n",
    "    VC[np.isnan(VC)]=0\n",
    "    return VC.T"
   ]
  },
  {
   "cell_type": "code",
   "execution_count": 35,
   "metadata": {},
   "outputs": [],
   "source": [
    "def create_rankingMatrix(rowLabel, colLabel, df):\n",
    "    rows = list(set(ACTIVITY_TRAIN[rowLabel])) \n",
    "    cols = list(map(lambda v: v.strip(), set(ACTIVITY_TRAIN[colLabel])))\n",
    "    n_rows = len(rows)\n",
    "    n_cols = len(cols)\n",
    "\n",
    "    rows = dict(zip(rows, np.arange(n_rows)))\n",
    "    cols = dict(zip(cols, np.arange(n_cols)))\n",
    "    mat = np.zeros((n_rows, n_cols))\n",
    "    # mat[mat==0]=np.nan\n",
    "    for rw in df.values:\n",
    "        mat[rows[rw[0]], cols[rw[1].strip()]]=rw[2]\n",
    "    return mat, rows, cols\n",
    "\n",
    "mat, prots, mols=create_rankingMatrix(\"uniprot_id\", \"mol_id\", ACTIVITY_TRAIN)\n",
    "mat=mat.T\n",
    "df_mat = pd.DataFrame(mat)"
   ]
  },
  {
   "cell_type": "code",
   "execution_count": 39,
   "metadata": {},
   "outputs": [
    {
     "ename": "KeyError",
     "evalue": "'CHEMBL3593901'",
     "output_type": "error",
     "traceback": [
      "\u001b[1;31m---------------------------------------------------------------------------\u001b[0m",
      "\u001b[1;31mKeyError\u001b[0m                                  Traceback (most recent call last)",
      "Cell \u001b[1;32mIn[39], line 1\u001b[0m\n\u001b[1;32m----> 1\u001b[0m mols[\u001b[39m\"\u001b[39m\u001b[39mCHEMBL3593901\u001b[39m\u001b[39m\"\u001b[39m]\n",
      "\u001b[1;31mKeyError\u001b[0m: 'CHEMBL3593901'"
     ]
    }
   ],
   "source": [
    "mols[\"CHEMBL3593901\"]"
   ]
  }
 ],
 "metadata": {
  "kernelspec": {
   "display_name": "Python 3",
   "language": "python",
   "name": "python3"
  },
  "language_info": {
   "codemirror_mode": {
    "name": "ipython",
    "version": 3
   },
   "file_extension": ".py",
   "mimetype": "text/x-python",
   "name": "python",
   "nbconvert_exporter": "python",
   "pygments_lexer": "ipython3",
   "version": "3.11.4"
  }
 },
 "nbformat": 4,
 "nbformat_minor": 2
}
