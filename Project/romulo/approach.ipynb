{
 "cells": [
  {
   "cell_type": "code",
   "execution_count": 4,
   "metadata": {},
   "outputs": [],
   "source": [
    "%load_ext autoreload\n",
    "%autoreload 2"
   ]
  },
  {
   "attachments": {},
   "cell_type": "markdown",
   "metadata": {},
   "source": [
    "# New approach\n",
    "\n",
    "1. Select k nearest neighbors N(i; x)\n",
    "    - Items most similar to i, that are rated by x\n",
    "2. estimate rating r_xi as weighted average: \n",
    "    - check slide 30 - T10"
   ]
  },
  {
   "attachments": {},
   "cell_type": "markdown",
   "metadata": {},
   "source": [
    "to test this approach, I'll try to predict the first line of the activity_train\n",
    "\n",
    "$$\n",
    "O14842, CHEMBL2022243, 4\n",
    "$$"
   ]
  },
  {
   "cell_type": "code",
   "execution_count": 5,
   "metadata": {},
   "outputs": [],
   "source": [
    "import pandas as pd\n",
    "from sim import *"
   ]
  },
  {
   "cell_type": "code",
   "execution_count": 2,
   "metadata": {},
   "outputs": [
    {
     "data": {
      "text/html": [
       "<div>\n",
       "<style scoped>\n",
       "    .dataframe tbody tr th:only-of-type {\n",
       "        vertical-align: middle;\n",
       "    }\n",
       "\n",
       "    .dataframe tbody tr th {\n",
       "        vertical-align: top;\n",
       "    }\n",
       "\n",
       "    .dataframe thead th {\n",
       "        text-align: right;\n",
       "    }\n",
       "</style>\n",
       "<table border=\"1\" class=\"dataframe\">\n",
       "  <thead>\n",
       "    <tr style=\"text-align: right;\">\n",
       "      <th></th>\n",
       "      <th>uniprot_id</th>\n",
       "      <th>mol_id</th>\n",
       "      <th>activity</th>\n",
       "    </tr>\n",
       "  </thead>\n",
       "  <tbody>\n",
       "    <tr>\n",
       "      <th>0</th>\n",
       "      <td>O14842</td>\n",
       "      <td>CHEMBL2022244</td>\n",
       "      <td>6</td>\n",
       "    </tr>\n",
       "    <tr>\n",
       "      <th>1</th>\n",
       "      <td>O14842</td>\n",
       "      <td>CHEMBL2022245</td>\n",
       "      <td>2</td>\n",
       "    </tr>\n",
       "    <tr>\n",
       "      <th>2</th>\n",
       "      <td>O14842</td>\n",
       "      <td>CHEMBL2022246</td>\n",
       "      <td>1</td>\n",
       "    </tr>\n",
       "    <tr>\n",
       "      <th>3</th>\n",
       "      <td>O14842</td>\n",
       "      <td>CHEMBL2022247</td>\n",
       "      <td>4</td>\n",
       "    </tr>\n",
       "    <tr>\n",
       "      <th>4</th>\n",
       "      <td>O14842</td>\n",
       "      <td>CHEMBL2022248</td>\n",
       "      <td>4</td>\n",
       "    </tr>\n",
       "    <tr>\n",
       "      <th>...</th>\n",
       "      <td>...</td>\n",
       "      <td>...</td>\n",
       "      <td>...</td>\n",
       "    </tr>\n",
       "    <tr>\n",
       "      <th>135705</th>\n",
       "      <td>Q9Y5Y4</td>\n",
       "      <td>CHEMBL4214909</td>\n",
       "      <td>6</td>\n",
       "    </tr>\n",
       "    <tr>\n",
       "      <th>135706</th>\n",
       "      <td>Q9Y5Y4</td>\n",
       "      <td>CHEMBL4218012</td>\n",
       "      <td>2</td>\n",
       "    </tr>\n",
       "    <tr>\n",
       "      <th>135707</th>\n",
       "      <td>Q9Y5Y4</td>\n",
       "      <td>CHEMBL4217503</td>\n",
       "      <td>7</td>\n",
       "    </tr>\n",
       "    <tr>\n",
       "      <th>135708</th>\n",
       "      <td>Q9Y5Y4</td>\n",
       "      <td>CHEMBL4204359</td>\n",
       "      <td>8</td>\n",
       "    </tr>\n",
       "    <tr>\n",
       "      <th>135709</th>\n",
       "      <td>Q9Y5Y4</td>\n",
       "      <td>CHEMBL4209228</td>\n",
       "      <td>6</td>\n",
       "    </tr>\n",
       "  </tbody>\n",
       "</table>\n",
       "<p>135710 rows × 3 columns</p>\n",
       "</div>"
      ],
      "text/plain": [
       "       uniprot_id          mol_id  activity\n",
       "0          O14842   CHEMBL2022244         6\n",
       "1          O14842   CHEMBL2022245         2\n",
       "2          O14842   CHEMBL2022246         1\n",
       "3          O14842   CHEMBL2022247         4\n",
       "4          O14842   CHEMBL2022248         4\n",
       "...           ...             ...       ...\n",
       "135705     Q9Y5Y4   CHEMBL4214909         6\n",
       "135706     Q9Y5Y4   CHEMBL4218012         2\n",
       "135707     Q9Y5Y4   CHEMBL4217503         7\n",
       "135708     Q9Y5Y4   CHEMBL4204359         8\n",
       "135709     Q9Y5Y4   CHEMBL4209228         6\n",
       "\n",
       "[135710 rows x 3 columns]"
      ]
     },
     "execution_count": 2,
     "metadata": {},
     "output_type": "execute_result"
    }
   ],
   "source": [
    "ACTIVITY_TRAIN = pd.read_csv('./activity_train.csv', names=['uniprot_id', 'mol_id', 'activity'])\n",
    "ACTIVITY_TRAIN"
   ]
  },
  {
   "cell_type": "code",
   "execution_count": 8,
   "metadata": {},
   "outputs": [],
   "source": [
    "use_case = ACTIVITY_TRAIN[ACTIVITY_TRAIN[\"uniprot_id\"] == \"O14842\"]"
   ]
  },
  {
   "cell_type": "code",
   "execution_count": 60,
   "metadata": {},
   "outputs": [],
   "source": [
    "a = find_similar_keys(\"CHEMBL2022243\", threshold=0.1)"
   ]
  },
  {
   "cell_type": "code",
   "execution_count": 71,
   "metadata": {},
   "outputs": [
    {
     "data": {
      "text/plain": [
       "{'CHEMBL1829174',\n",
       " 'CHEMBL2022243',\n",
       " 'CHEMBL2022244',\n",
       " 'CHEMBL2022245',\n",
       " 'CHEMBL2022249',\n",
       " 'CHEMBL2022250',\n",
       " 'CHEMBL2022251',\n",
       " 'CHEMBL2022578',\n",
       " 'CHEMBL2022579',\n",
       " 'CHEMBL2022580',\n",
       " 'CHEMBL2022583',\n",
       " 'CHEMBL2047159',\n",
       " 'CHEMBL2047166',\n",
       " 'CHEMBL2047168',\n",
       " 'CHEMBL2179472'}"
      ]
     },
     "execution_count": 71,
     "metadata": {},
     "output_type": "execute_result"
    }
   ],
   "source": [
    "sim_mols = set()\n",
    "for dic in a:\n",
    "    for k,v in dic.items():\n",
    "        sim_mols.add(k[1])\n",
    "\n",
    "sim_mols"
   ]
  },
  {
   "cell_type": "code",
   "execution_count": 62,
   "metadata": {},
   "outputs": [],
   "source": [
    "l = set(map(lambda v: v.strip(), use_case[\"mol_id\"].values))\n",
    "inter = l.intersection(sim_mols)"
   ]
  },
  {
   "cell_type": "code",
   "execution_count": 63,
   "metadata": {},
   "outputs": [
    {
     "name": "stdout",
     "output_type": "stream",
     "text": [
      "('CHEMBL2022243', 'CHEMBL2022244') 0.8148148148148149\n",
      "('CHEMBL2022243', 'CHEMBL2022245') 0.7951807228915663\n",
      "('CHEMBL2022243', 'CHEMBL2022249') 0.7283950617283951\n",
      "('CHEMBL2022243', 'CHEMBL2022250') 0.5531914893617021\n",
      "('CHEMBL2022243', 'CHEMBL2022251') 0.5106382978723405\n",
      "('CHEMBL2022243', 'CHEMBL1829174') 0.44545454545454544\n",
      "('CHEMBL2022243', 'CHEMBL2179472') 0.44545454545454544\n",
      "('CHEMBL2022243', 'CHEMBL2047159') 0.4414414414414415\n",
      "('CHEMBL2022243', 'CHEMBL2022580') 0.43518518518518523\n",
      "('CHEMBL2022243', 'CHEMBL2022579') 0.43518518518518523\n",
      "('CHEMBL2022243', 'CHEMBL2047166') 0.415929203539823\n",
      "('CHEMBL2022243', 'CHEMBL2022578') 0.40740740740740744\n",
      "('CHEMBL2022243', 'CHEMBL2022583') 0.3913043478260869\n"
     ]
    }
   ],
   "source": [
    "vs = []\n",
    "for dic in a:\n",
    "    for k,v in dic.items():\n",
    "        if k[1] in inter:\n",
    "            print(k,v)\n",
    "            vs.append(v)"
   ]
  },
  {
   "cell_type": "code",
   "execution_count": 64,
   "metadata": {},
   "outputs": [
    {
     "data": {
      "text/plain": [
       "(6.819582248163039, 13)"
      ]
     },
     "execution_count": 64,
     "metadata": {},
     "output_type": "execute_result"
    }
   ],
   "source": [
    "sum(vs), len(vs)"
   ]
  },
  {
   "cell_type": "code",
   "execution_count": 73,
   "metadata": {},
   "outputs": [
    {
     "data": {
      "text/plain": [
       "4"
      ]
     },
     "execution_count": 73,
     "metadata": {},
     "output_type": "execute_result"
    }
   ],
   "source": [
    "um = use_case[use_case[\"mol_id\"] == \" CHEMBL2022244\"][\"activity\"].values[0] * vs[0]\n",
    "dois = use_case[use_case[\"mol_id\"] == \" CHEMBL2022245\"][\"activity\"].values[0] * vs[1]\n",
    "tres = use_case[use_case[\"mol_id\"] == \" CHEMBL2022249\"][\"activity\"].values[0] * vs[2]\n",
    "quatro = use_case[use_case[\"mol_id\"] == \" CHEMBL2022250\"][\"activity\"].values[0] * vs[3]\n",
    "cinco = use_case[use_case[\"mol_id\"] == \" CHEMBL2022251\"][\"activity\"].values[0] * vs[4]\n",
    "seis = use_case[use_case[\"mol_id\"] == \" CHEMBL1829174\"][\"activity\"].values[0] * vs[5]\n",
    "sete = use_case[use_case[\"mol_id\"] == \" CHEMBL2179472\"][\"activity\"].values[0] * vs[6]\n",
    "oito = use_case[use_case[\"mol_id\"] == \" CHEMBL2047159\"][\"activity\"].values[0] * vs[7]\n",
    "nove = use_case[use_case[\"mol_id\"] == \" CHEMBL2022580\"][\"activity\"].values[0] * vs[8]\n",
    "dez = use_case[use_case[\"mol_id\"] == \" CHEMBL2022579\"][\"activity\"].values[0] * vs[9]\n",
    "onze = use_case[use_case[\"mol_id\"] == \" CHEMBL2047166\"][\"activity\"].values[0] * vs[10]\n",
    "doze = use_case[use_case[\"mol_id\"] == \" CHEMBL2022578\"][\"activity\"].values[0] * vs[11]\n",
    "treze = use_case[use_case[\"mol_id\"] == \" CHEMBL2022583\"][\"activity\"].values[0] * vs[12]\n",
    "\n",
    "\n",
    "\n",
    "round(sum([um, dois, tres, quatro, cinco, seis, sete, oito, nove, dez, onze, doze, treze]) / sum(vs))"
   ]
  }
 ],
 "metadata": {
  "kernelspec": {
   "display_name": "base",
   "language": "python",
   "name": "python3"
  },
  "language_info": {
   "codemirror_mode": {
    "name": "ipython",
    "version": 3
   },
   "file_extension": ".py",
   "mimetype": "text/x-python",
   "name": "python",
   "nbconvert_exporter": "python",
   "pygments_lexer": "ipython3",
   "version": "3.11.4"
  },
  "orig_nbformat": 4
 },
 "nbformat": 4,
 "nbformat_minor": 2
}
