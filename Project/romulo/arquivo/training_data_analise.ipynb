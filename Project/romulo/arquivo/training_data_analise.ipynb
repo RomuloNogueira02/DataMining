{
 "cells": [
  {
   "cell_type": "code",
   "execution_count": 1,
   "metadata": {},
   "outputs": [],
   "source": [
    "import pickle\n",
    "import pandas as pd\n",
    "from nltk.metrics import jaccard_distance"
   ]
  },
  {
   "cell_type": "code",
   "execution_count": 3,
   "metadata": {},
   "outputs": [],
   "source": [
    "train_columns = ['uniprot_id', 'mol_id', 'activity']\n",
    "test_columns = ['uniprot_id', 'mol_id', 'activity']\n",
    "\n",
    "## import the data\n",
    "ACTIVITY_TRAIN = pd.read_csv(\"../activity_train.csv\", names = train_columns, header = None)\n",
    "ACTIVITY_TEST_BLANKED = pd.read_csv(\"../activity_test_blanked.csv\", names = test_columns, header = None)\n",
    "\n",
    "with open(\"../mol_bits.pkl\", \"rb\") as f:\n",
    "    MOL_BITS = pickle.load(f)"
   ]
  },
  {
   "cell_type": "code",
   "execution_count": 4,
   "metadata": {},
   "outputs": [],
   "source": [
    "def jaccard_similarity(s1, s2):\n",
    "    intersection = len(s1.intersection(s2))\n",
    "    union = len(s1.union(s2))\n",
    "    return float(intersection) / union"
   ]
  },
  {
   "cell_type": "code",
   "execution_count": 4,
   "metadata": {},
   "outputs": [],
   "source": [
    "keys_to_predict = ACTIVITY_TEST_BLANKED[\"uniprot_id\"].unique().tolist()\n",
    "keys_that_we_have_data = ACTIVITY_TRAIN[\"uniprot_id\"].unique().tolist()"
   ]
  },
  {
   "cell_type": "code",
   "execution_count": 5,
   "metadata": {},
   "outputs": [],
   "source": [
    "if not all([key in keys_that_we_have_data for key in keys_to_predict]):\n",
    "    print(\"We have missing data\")\n",
    "    print([key for key in keys_to_predict if key not in keys_that_we_have_data])"
   ]
  },
  {
   "cell_type": "code",
   "execution_count": 6,
   "metadata": {},
   "outputs": [],
   "source": [
    "mols_to_predict = ACTIVITY_TEST_BLANKED[\"uniprot_id\"].unique().tolist()\n",
    "mols_that_we_have = ACTIVITY_TRAIN[\"uniprot_id\"].unique().tolist()"
   ]
  },
  {
   "cell_type": "code",
   "execution_count": 7,
   "metadata": {},
   "outputs": [],
   "source": [
    "if not all([key in mols_that_we_have for key in keys_to_predict]):\n",
    "    print(\"We have missing data\")\n",
    "    print([key for key in mols_to_predict if key not in mols_that_we_have])"
   ]
  },
  {
   "cell_type": "code",
   "execution_count": 7,
   "metadata": {},
   "outputs": [],
   "source": [
    "# Example for the first protein of the dataset\n",
    "\n",
    "uniprot_id = keys_to_predict[0]\n",
    "df_uniprot = ACTIVITY_TRAIN[ACTIVITY_TRAIN[\"uniprot_id\"] == uniprot_id]\n",
    "\n",
    "# print(df_uniprot)\n",
    "\n",
    "mols = []\n",
    "for mol in df_uniprot[\"mol_id\"]:\n",
    "    mol = mol.strip()\n",
    "    mols.append({mol: MOL_BITS[mol]})\n",
    "\n",
    "mol_to_predict = MOL_BITS[\"CHEMBL2022258\"]\n",
    "\n",
    "# Matriz de similaridade\n",
    "similarity_matrix = []\n",
    "for mol in mols:\n",
    "    for key, value in mol.items():\n",
    "        activity = df_uniprot[df_uniprot[\"mol_id\"] == \" \" + key][\"activity\"].values.tolist()[0]\n",
    "        score = jaccard_similarity(set(value), set(mol_to_predict))\n",
    "        if score > 0.5:\n",
    "            similarity_matrix.append({(key, \"CHEMBL2022258\"): (score, activity)})\n"
   ]
  },
  {
   "cell_type": "code",
   "execution_count": 8,
   "metadata": {},
   "outputs": [
    {
     "data": {
      "text/plain": [
       "[{('CHEMBL2022247', 'CHEMBL2022258'): (0.825, 4)},\n",
       " {('CHEMBL2022249', 'CHEMBL2022258'): (0.5106382978723404, 3)},\n",
       " {('CHEMBL2022252', 'CHEMBL2022258'): (0.6666666666666666, 6)},\n",
       " {('CHEMBL2022253', 'CHEMBL2022258'): (0.5742574257425742, 4)},\n",
       " {('CHEMBL2022254', 'CHEMBL2022258'): (0.6020408163265306, 3)},\n",
       " {('CHEMBL2022255', 'CHEMBL2022258'): (0.5789473684210527, 5)},\n",
       " {('CHEMBL2022256', 'CHEMBL2022258'): (0.5544554455445545, 8)},\n",
       " {('CHEMBL2022257', 'CHEMBL2022258'): (0.7078651685393258, 6)},\n",
       " {('CHEMBL2022576', 'CHEMBL2022258'): (0.7816091954022989, 7)},\n",
       " {('CHEMBL2022577', 'CHEMBL2022258'): (0.7391304347826086, 6)},\n",
       " {('CHEMBL2047149', 'CHEMBL2022258'): (0.7391304347826086, 6)},\n",
       " {('CHEMBL2047150', 'CHEMBL2022258'): (0.7391304347826086, 4)},\n",
       " {('CHEMBL2047151', 'CHEMBL2022258'): (0.7311827956989247, 7)},\n",
       " {('CHEMBL2047152', 'CHEMBL2022258'): (0.7311827956989247, 6)},\n",
       " {('CHEMBL2047153', 'CHEMBL2022258'): (0.7311827956989247, 4)},\n",
       " {('CHEMBL2047154', 'CHEMBL2022258'): (0.723404255319149, 5)},\n",
       " {('CHEMBL2047155', 'CHEMBL2022258'): (0.723404255319149, 6)},\n",
       " {('CHEMBL2047156', 'CHEMBL2022258'): (0.723404255319149, 4)},\n",
       " {('CHEMBL2047157', 'CHEMBL2022258'): (0.68, 6)},\n",
       " {('CHEMBL2047158', 'CHEMBL2022258'): (0.723404255319149, 6)},\n",
       " {('CHEMBL2047159', 'CHEMBL2022258'): (0.723404255319149, 6)},\n",
       " {('CHEMBL2047160', 'CHEMBL2022258'): (0.6538461538461539, 6)},\n",
       " {('CHEMBL2047162', 'CHEMBL2022258'): (0.7010309278350515, 7)},\n",
       " {('CHEMBL2047164', 'CHEMBL2022258'): (0.6363636363636364, 7)},\n",
       " {('CHEMBL2047165', 'CHEMBL2022258'): (0.64, 6)},\n",
       " {('CHEMBL2047166', 'CHEMBL2022258'): (0.6363636363636364, 6)},\n",
       " {('CHEMBL2047167', 'CHEMBL2022258'): (0.6285714285714286, 6)},\n",
       " {('CHEMBL2047170', 'CHEMBL2022258'): (0.6176470588235294, 7)},\n",
       " {('CHEMBL2179472', 'CHEMBL2022258'): (0.7311827956989247, 4)},\n",
       " {('CHEMBL1829174', 'CHEMBL2022258'): (0.7311827956989247, 7)}]"
      ]
     },
     "execution_count": 8,
     "metadata": {},
     "output_type": "execute_result"
    }
   ],
   "source": [
    "similarity_matrix\n"
   ]
  }
 ],
 "metadata": {
  "kernelspec": {
   "display_name": "Python 3",
   "language": "python",
   "name": "python3"
  },
  "language_info": {
   "codemirror_mode": {
    "name": "ipython",
    "version": 3
   },
   "file_extension": ".py",
   "mimetype": "text/x-python",
   "name": "python",
   "nbconvert_exporter": "python",
   "pygments_lexer": "ipython3",
   "version": "3.11.4"
  }
 },
 "nbformat": 4,
 "nbformat_minor": 2
}
