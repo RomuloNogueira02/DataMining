{
 "cells": [
  {
   "cell_type": "markdown",
   "metadata": {},
   "source": [
    "# Using the Item-Item Collaborative Filtering algorithm (T10 - slide 24 to 29)"
   ]
  },
  {
   "cell_type": "markdown",
   "metadata": {},
   "source": [
    "**Objective**: Implement the baseline for the Collaborative Filtering (CF) method.\n",
    "1. Create a miniHashLsh where we can retrieve the K nearest neighbors of a molecule (based on Jaccard similarity).\n",
    "2. Select some lines of the training data to test our estimator.\n",
    "3. Implement the estimator.\n",
    "    - Given a protein and a molecule ID\n",
    "    - Retrieve the K nearest neighbors of the molecule (Molecules most similar to the given molecule, that have an activity value for the given protein)\n",
    "    - Estimate the activity level as weighted average.\n",
    "4. Test the estimator with the selected lines (notice that the line of the protein does not count as a neighbor, only as groundTruth).\n",
    "\n",
    "\n",
    "\n",
    "VER O QUE FAZER COM AS SITUAÇÕES ONDE NÃO HÁ VIZINHOS (MAYBE GLOBAL BASELINE??)"
   ]
  },
  {
   "cell_type": "code",
   "execution_count": 1,
   "metadata": {},
   "outputs": [],
   "source": [
    "%load_ext autoreload\n",
    "%autoreload 2"
   ]
  },
  {
   "cell_type": "code",
   "execution_count": 2,
   "metadata": {},
   "outputs": [],
   "source": [
    "# imports\n",
    "import random\n",
    "\n",
    "import pandas as pd\n",
    "\n",
    "from helpers import *"
   ]
  },
  {
   "cell_type": "code",
   "execution_count": 3,
   "metadata": {},
   "outputs": [
    {
     "data": {
      "text/plain": [
       "(135711, 4628)"
      ]
     },
     "execution_count": 3,
     "metadata": {},
     "output_type": "execute_result"
    }
   ],
   "source": [
    "# Constants\n",
    "\n",
    "ACTIVITY_TRAIN = pd.read_csv('./activity_train.csv', names=['uniprot_id', 'mol_id', 'activity'])\n",
    "ACTIVITY_TRAIN[\"mol_id\"] = ACTIVITY_TRAIN[\"mol_id\"].apply(remove_blank_space)\n",
    "\n",
    "ACTIVITY_TEST = pd.read_csv('./activity_test_blanked.csv', names=['uniprot_id', 'mol_id', 'activity'])\n",
    "ACTIVITY_TEST[\"mol_id\"] = ACTIVITY_TEST[\"mol_id\"].apply(remove_blank_space)\n",
    "\n",
    "len(ACTIVITY_TRAIN), len(ACTIVITY_TEST)"
   ]
  },
  {
   "cell_type": "markdown",
   "metadata": {},
   "source": [
    "# 1. MiniHashLsh"
   ]
  },
  {
   "cell_type": "code",
   "execution_count": 4,
   "metadata": {},
   "outputs": [],
   "source": [
    "from sim import *"
   ]
  },
  {
   "cell_type": "markdown",
   "metadata": {},
   "source": [
    "# 2. Select some lines of the training data to test our estimator\n",
    "\n",
    "Selected 33% of the lines to check the performance of the estimator."
   ]
  },
  {
   "cell_type": "code",
   "execution_count": 5,
   "metadata": {},
   "outputs": [
    {
     "name": "stderr",
     "output_type": "stream",
     "text": [
      "C:\\Users\\romul\\AppData\\Local\\Temp\\ipykernel_19036\\2708088912.py:4: SettingWithCopyWarning: \n",
      "A value is trying to be set on a copy of a slice from a DataFrame.\n",
      "Try using .loc[row_indexer,col_indexer] = value instead\n",
      "\n",
      "See the caveats in the documentation: https://pandas.pydata.org/pandas-docs/stable/user_guide/indexing.html#returning-a-view-versus-a-copy\n",
      "  ACTIVITY_VAL[\"predicted\"] = [0] * len(ACTIVITY_VAL)\n"
     ]
    },
    {
     "data": {
      "text/html": [
       "<div>\n",
       "<style scoped>\n",
       "    .dataframe tbody tr th:only-of-type {\n",
       "        vertical-align: middle;\n",
       "    }\n",
       "\n",
       "    .dataframe tbody tr th {\n",
       "        vertical-align: top;\n",
       "    }\n",
       "\n",
       "    .dataframe thead th {\n",
       "        text-align: right;\n",
       "    }\n",
       "</style>\n",
       "<table border=\"1\" class=\"dataframe\">\n",
       "  <thead>\n",
       "    <tr style=\"text-align: right;\">\n",
       "      <th></th>\n",
       "      <th>uniprot_id</th>\n",
       "      <th>mol_id</th>\n",
       "      <th>activity</th>\n",
       "      <th>predicted</th>\n",
       "    </tr>\n",
       "  </thead>\n",
       "  <tbody>\n",
       "    <tr>\n",
       "      <th>29184</th>\n",
       "      <td>P20309</td>\n",
       "      <td>CHEMBL206127</td>\n",
       "      <td>4</td>\n",
       "      <td>0</td>\n",
       "    </tr>\n",
       "    <tr>\n",
       "      <th>6556</th>\n",
       "      <td>P08173</td>\n",
       "      <td>CHEMBL75880</td>\n",
       "      <td>3</td>\n",
       "      <td>0</td>\n",
       "    </tr>\n",
       "    <tr>\n",
       "      <th>72097</th>\n",
       "      <td>P32245</td>\n",
       "      <td>CHEMBL393789</td>\n",
       "      <td>5</td>\n",
       "      <td>0</td>\n",
       "    </tr>\n",
       "    <tr>\n",
       "      <th>64196</th>\n",
       "      <td>P30542</td>\n",
       "      <td>CHEMBL258755</td>\n",
       "      <td>1</td>\n",
       "      <td>0</td>\n",
       "    </tr>\n",
       "    <tr>\n",
       "      <th>58513</th>\n",
       "      <td>P29274</td>\n",
       "      <td>CHEMBL4566592</td>\n",
       "      <td>1</td>\n",
       "      <td>0</td>\n",
       "    </tr>\n",
       "    <tr>\n",
       "      <th>...</th>\n",
       "      <td>...</td>\n",
       "      <td>...</td>\n",
       "      <td>...</td>\n",
       "      <td>...</td>\n",
       "    </tr>\n",
       "    <tr>\n",
       "      <th>75096</th>\n",
       "      <td>P34969</td>\n",
       "      <td>CHEMBL2164342</td>\n",
       "      <td>5</td>\n",
       "      <td>0</td>\n",
       "    </tr>\n",
       "    <tr>\n",
       "      <th>15063</th>\n",
       "      <td>P0DMS8</td>\n",
       "      <td>CHEMBL375501</td>\n",
       "      <td>5</td>\n",
       "      <td>0</td>\n",
       "    </tr>\n",
       "    <tr>\n",
       "      <th>45946</th>\n",
       "      <td>P28222</td>\n",
       "      <td>CHEMBL1241546</td>\n",
       "      <td>9</td>\n",
       "      <td>0</td>\n",
       "    </tr>\n",
       "    <tr>\n",
       "      <th>129595</th>\n",
       "      <td>Q9H3N8</td>\n",
       "      <td>CHEMBL1915347</td>\n",
       "      <td>5</td>\n",
       "      <td>0</td>\n",
       "    </tr>\n",
       "    <tr>\n",
       "      <th>115073</th>\n",
       "      <td>P48039</td>\n",
       "      <td>CHEMBL1097525</td>\n",
       "      <td>8</td>\n",
       "      <td>0</td>\n",
       "    </tr>\n",
       "  </tbody>\n",
       "</table>\n",
       "<p>4112 rows × 4 columns</p>\n",
       "</div>"
      ],
      "text/plain": [
       "       uniprot_id         mol_id  activity  predicted\n",
       "29184      P20309   CHEMBL206127         4          0\n",
       "6556       P08173    CHEMBL75880         3          0\n",
       "72097      P32245   CHEMBL393789         5          0\n",
       "64196      P30542   CHEMBL258755         1          0\n",
       "58513      P29274  CHEMBL4566592         1          0\n",
       "...           ...            ...       ...        ...\n",
       "75096      P34969  CHEMBL2164342         5          0\n",
       "15063      P0DMS8   CHEMBL375501         5          0\n",
       "45946      P28222  CHEMBL1241546         9          0\n",
       "129595     Q9H3N8  CHEMBL1915347         5          0\n",
       "115073     P48039  CHEMBL1097525         8          0\n",
       "\n",
       "[4112 rows x 4 columns]"
      ]
     },
     "execution_count": 5,
     "metadata": {},
     "output_type": "execute_result"
    }
   ],
   "source": [
    "random.seed(42)\n",
    "random_indexes = random.sample(range(0, len(ACTIVITY_TRAIN)), len(ACTIVITY_TRAIN) // 33)\n",
    "ACTIVITY_VAL = ACTIVITY_TRAIN.iloc[random_indexes]\n",
    "ACTIVITY_VAL[\"predicted\"] = [0] * len(ACTIVITY_VAL)\n",
    "ACTIVITY_VAL"
   ]
  },
  {
   "cell_type": "code",
   "execution_count": 16,
   "metadata": {},
   "outputs": [],
   "source": [
    "# use_case = ACTIVITY_VAL.iloc[0]\n",
    "# type(use_case)"
   ]
  },
  {
   "cell_type": "code",
   "execution_count": 7,
   "metadata": {},
   "outputs": [],
   "source": [
    "# knn = find_similar_keys(use_case[\"mol_id\"], threshold=0.1)"
   ]
  },
  {
   "cell_type": "code",
   "execution_count": 73,
   "metadata": {},
   "outputs": [],
   "source": [
    "def global_mean(use_case:pd.Series, ACTIVITY_TRAIN:pd.DataFrame):\n",
    "    subset = ACTIVITY_TRAIN[ACTIVITY_TRAIN[\"uniprot_id\"] == use_case[\"uniprot_id\"]]\n",
    "    return round(subset[\"activity\"].mean())\n",
    "\n",
    "def estimate_score(use_case: pd.Series, knn:dict, ACTIVITY_TRAIN:pd.DataFrame) -> int:\n",
    "\n",
    "    # Retrieve the set of molecules that the protein has activity for\n",
    "    uniprot_mols = set(ACTIVITY_TRAIN[ACTIVITY_TRAIN[\"uniprot_id\"] == use_case[\"uniprot_id\"]][\"mol_id\"].values)\n",
    "\n",
    "    # Intercept the set of molecules that the protein has activity for and the set of molecules that are similar to the molecule\n",
    "    sim_mols = set(knn.keys())\n",
    "    intercept_mols = sim_mols.intersection(uniprot_mols)\n",
    "\n",
    "    # Get a subset of the training data that contains only the molecules that are similar to the molecule\n",
    "    subset = ACTIVITY_TRAIN[ACTIVITY_TRAIN[\"mol_id\"].isin(intercept_mols)]\n",
    "\n",
    "    if knn == {} or intercept_mols == {} or subset.empty:\n",
    "        return global_mean(use_case, ACTIVITY_TRAIN)\n",
    "    \n",
    "    # Calculate the estimated activity\n",
    "    num = 0\n",
    "    den = 0\n",
    "    for mol in intercept_mols:\n",
    "        #      s_ij    *      r_jx\n",
    "        num += knn[mol] * subset[subset[\"mol_id\"] == mol][\"activity\"].values[0]\n",
    "        #     s_ij\n",
    "        den += knn[mol]\n",
    "\n",
    "\n",
    "    return round(num / den)"
   ]
  },
  {
   "cell_type": "code",
   "execution_count": 74,
   "metadata": {},
   "outputs": [],
   "source": [
    "list_preds = []\n",
    "for i in range(len(ACTIVITY_VAL)):\n",
    "    # Get the use case\n",
    "    use_case = ACTIVITY_VAL.iloc[i]\n",
    "\n",
    "    # Find the similar molecules\n",
    "    knn = find_similar_keys(use_case[\"mol_id\"], threshold=0.5)\n",
    "\n",
    "    # Estimate the score\n",
    "    pred = estimate_score(use_case, knn, ACTIVITY_TRAIN)\n",
    "\n",
    "    # Append the prediction to the list\n",
    "    list_preds.append(pred)"
   ]
  },
  {
   "cell_type": "code",
   "execution_count": 75,
   "metadata": {},
   "outputs": [
    {
     "name": "stderr",
     "output_type": "stream",
     "text": [
      "C:\\Users\\romul\\AppData\\Local\\Temp\\ipykernel_19036\\1031298708.py:1: SettingWithCopyWarning: \n",
      "A value is trying to be set on a copy of a slice from a DataFrame.\n",
      "Try using .loc[row_indexer,col_indexer] = value instead\n",
      "\n",
      "See the caveats in the documentation: https://pandas.pydata.org/pandas-docs/stable/user_guide/indexing.html#returning-a-view-versus-a-copy\n",
      "  ACTIVITY_VAL[\"predicted\"] = list_preds\n"
     ]
    }
   ],
   "source": [
    "ACTIVITY_VAL[\"predicted\"] = list_preds"
   ]
  },
  {
   "cell_type": "code",
   "execution_count": 76,
   "metadata": {},
   "outputs": [
    {
     "data": {
      "text/html": [
       "<div>\n",
       "<style scoped>\n",
       "    .dataframe tbody tr th:only-of-type {\n",
       "        vertical-align: middle;\n",
       "    }\n",
       "\n",
       "    .dataframe tbody tr th {\n",
       "        vertical-align: top;\n",
       "    }\n",
       "\n",
       "    .dataframe thead th {\n",
       "        text-align: right;\n",
       "    }\n",
       "</style>\n",
       "<table border=\"1\" class=\"dataframe\">\n",
       "  <thead>\n",
       "    <tr style=\"text-align: right;\">\n",
       "      <th></th>\n",
       "      <th>uniprot_id</th>\n",
       "      <th>mol_id</th>\n",
       "      <th>activity</th>\n",
       "      <th>predicted</th>\n",
       "    </tr>\n",
       "  </thead>\n",
       "  <tbody>\n",
       "    <tr>\n",
       "      <th>29184</th>\n",
       "      <td>P20309</td>\n",
       "      <td>CHEMBL206127</td>\n",
       "      <td>4</td>\n",
       "      <td>4</td>\n",
       "    </tr>\n",
       "    <tr>\n",
       "      <th>6556</th>\n",
       "      <td>P08173</td>\n",
       "      <td>CHEMBL75880</td>\n",
       "      <td>3</td>\n",
       "      <td>4</td>\n",
       "    </tr>\n",
       "    <tr>\n",
       "      <th>72097</th>\n",
       "      <td>P32245</td>\n",
       "      <td>CHEMBL393789</td>\n",
       "      <td>5</td>\n",
       "      <td>8</td>\n",
       "    </tr>\n",
       "    <tr>\n",
       "      <th>64196</th>\n",
       "      <td>P30542</td>\n",
       "      <td>CHEMBL258755</td>\n",
       "      <td>1</td>\n",
       "      <td>1</td>\n",
       "    </tr>\n",
       "    <tr>\n",
       "      <th>58513</th>\n",
       "      <td>P29274</td>\n",
       "      <td>CHEMBL4566592</td>\n",
       "      <td>1</td>\n",
       "      <td>1</td>\n",
       "    </tr>\n",
       "    <tr>\n",
       "      <th>...</th>\n",
       "      <td>...</td>\n",
       "      <td>...</td>\n",
       "      <td>...</td>\n",
       "      <td>...</td>\n",
       "    </tr>\n",
       "    <tr>\n",
       "      <th>75096</th>\n",
       "      <td>P34969</td>\n",
       "      <td>CHEMBL2164342</td>\n",
       "      <td>5</td>\n",
       "      <td>5</td>\n",
       "    </tr>\n",
       "    <tr>\n",
       "      <th>15063</th>\n",
       "      <td>P0DMS8</td>\n",
       "      <td>CHEMBL375501</td>\n",
       "      <td>5</td>\n",
       "      <td>6</td>\n",
       "    </tr>\n",
       "    <tr>\n",
       "      <th>45946</th>\n",
       "      <td>P28222</td>\n",
       "      <td>CHEMBL1241546</td>\n",
       "      <td>9</td>\n",
       "      <td>10</td>\n",
       "    </tr>\n",
       "    <tr>\n",
       "      <th>129595</th>\n",
       "      <td>Q9H3N8</td>\n",
       "      <td>CHEMBL1915347</td>\n",
       "      <td>5</td>\n",
       "      <td>6</td>\n",
       "    </tr>\n",
       "    <tr>\n",
       "      <th>115073</th>\n",
       "      <td>P48039</td>\n",
       "      <td>CHEMBL1097525</td>\n",
       "      <td>8</td>\n",
       "      <td>7</td>\n",
       "    </tr>\n",
       "  </tbody>\n",
       "</table>\n",
       "<p>4112 rows × 4 columns</p>\n",
       "</div>"
      ],
      "text/plain": [
       "       uniprot_id         mol_id  activity  predicted\n",
       "29184      P20309   CHEMBL206127         4          4\n",
       "6556       P08173    CHEMBL75880         3          4\n",
       "72097      P32245   CHEMBL393789         5          8\n",
       "64196      P30542   CHEMBL258755         1          1\n",
       "58513      P29274  CHEMBL4566592         1          1\n",
       "...           ...            ...       ...        ...\n",
       "75096      P34969  CHEMBL2164342         5          5\n",
       "15063      P0DMS8   CHEMBL375501         5          6\n",
       "45946      P28222  CHEMBL1241546         9         10\n",
       "129595     Q9H3N8  CHEMBL1915347         5          6\n",
       "115073     P48039  CHEMBL1097525         8          7\n",
       "\n",
       "[4112 rows x 4 columns]"
      ]
     },
     "execution_count": 76,
     "metadata": {},
     "output_type": "execute_result"
    }
   ],
   "source": [
    "ACTIVITY_VAL"
   ]
  },
  {
   "cell_type": "code",
   "execution_count": 79,
   "metadata": {},
   "outputs": [
    {
     "name": "stdout",
     "output_type": "stream",
     "text": [
      "Número de linhas onde activity == predicted: 24.54%\n",
      "Número de linhas onde activity != predicted: 75.46%\n",
      "\n",
      "Número de linhas onde |activity - predicted| == 1: 31.71%\n",
      "Número de linhas onde |activity - predicted| == 2: 18.34%\n",
      "\n",
      "Retirando diferenças por 1, falhados: 43.75%\n",
      "Retirando diferenças por 1, acertados: 56.25%\n",
      "\n",
      "Retirando diferenças por 1 e 2, falhados: 25.41%\n",
      "Retirando diferenças por 1 e 2, acertados: 74.59%\n"
     ]
    }
   ],
   "source": [
    "# Contando o número de linhas onde A == B\n",
    "num_iguais = (ACTIVITY_VAL['activity'] == ACTIVITY_VAL['predicted']).sum()\n",
    "\n",
    "# Contando o número de linhas onde A != B\n",
    "num_diferentes = (ACTIVITY_VAL['activity'] != ACTIVITY_VAL['predicted']).sum()\n",
    "\n",
    "num_diff_por_um = (abs(ACTIVITY_VAL['activity'] - ACTIVITY_VAL['predicted']) == 1).sum()\n",
    "num_diff_por_dois = (abs(ACTIVITY_VAL['activity'] - ACTIVITY_VAL['predicted']) == 2).sum()\n",
    "\n",
    "print(f\"Número de linhas onde activity == predicted: {num_iguais/len(ACTIVITY_VAL) * 100:.2f}%\")\n",
    "print(f\"Número de linhas onde activity != predicted: {(num_diferentes)/len(ACTIVITY_VAL) * 100:.2f}%\")\n",
    "\n",
    "print()\n",
    "\n",
    "print(f\"Número de linhas onde |activity - predicted| == 1: {num_diff_por_um/len(ACTIVITY_VAL) * 100:.2f}%\")\n",
    "print(f\"Número de linhas onde |activity - predicted| == 2: {num_diff_por_dois/len(ACTIVITY_VAL) * 100:.2f}%\")\n",
    "\n",
    "print()\n",
    "\n",
    "print(f\"Retirando diferenças por 1, falhados: {(num_diferentes - num_diff_por_um)/len(ACTIVITY_VAL) * 100:.2f}%\")\n",
    "print(f\"Retirando diferenças por 1, acertados: {(num_iguais + num_diff_por_um)/len(ACTIVITY_VAL) * 100:.2f}%\")\n",
    "\n",
    "print() \n",
    "\n",
    "print(f\"Retirando diferenças por 1 e 2, falhados: {(num_diferentes - num_diff_por_dois - num_diff_por_um)/len(ACTIVITY_VAL) * 100:.2f}%\")\n",
    "print(f\"Retirando diferenças por 1 e 2, acertados: {(num_iguais + num_diff_por_um + num_diff_por_dois)/len(ACTIVITY_VAL) * 100:.2f}%\")"
   ]
  }
 ],
 "metadata": {
  "kernelspec": {
   "display_name": "Python 3",
   "language": "python",
   "name": "python3"
  },
  "language_info": {
   "codemirror_mode": {
    "name": "ipython",
    "version": 3
   },
   "file_extension": ".py",
   "mimetype": "text/x-python",
   "name": "python",
   "nbconvert_exporter": "python",
   "pygments_lexer": "ipython3",
   "version": "3.11.2"
  }
 },
 "nbformat": 4,
 "nbformat_minor": 2
}
