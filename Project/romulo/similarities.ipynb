{
 "cells": [
  {
   "cell_type": "markdown",
   "metadata": {},
   "source": [
    "# Similarities between molecules\n",
    "\n",
    "So the goal of this notebook, is to use the fingerprints provided in the ```mol_bits.pkl``` to find similar molecules.\n",
    "\n",
    "The essential idea is to retrieve similar items from a database. We assume that these items are complex objects with a variable amout of features"
   ]
  },
  {
   "cell_type": "code",
   "execution_count": 29,
   "metadata": {},
   "outputs": [],
   "source": [
    "import pickle\n",
    "import matplotlib.pyplot as plt \n",
    "import numpy as np\n",
    "from datasketch import MinHash, MinHashLSH\n",
    "from nltk.metrics import jaccard_distance"
   ]
  },
  {
   "cell_type": "code",
   "execution_count": 2,
   "metadata": {},
   "outputs": [],
   "source": [
    "with open(\"../mol_bits.pkl\", \"rb\") as f:\n",
    "    MOL_BITS = pickle.load(f)"
   ]
  },
  {
   "cell_type": "code",
   "execution_count": 37,
   "metadata": {},
   "outputs": [],
   "source": [
    "# Função para criar MinHash a partir de uma lista de valores\n",
    "def create_minhash(values):\n",
    "    m = MinHash(num_perm=256)\n",
    "    for val in values:\n",
    "        m.update(str(val).encode('utf8'))\n",
    "    return m"
   ]
  },
  {
   "cell_type": "code",
   "execution_count": 38,
   "metadata": {},
   "outputs": [],
   "source": [
    "# Criar LSH\n",
    "lsh = MinHashLSH(threshold=0.5, num_perm=256)"
   ]
  },
  {
   "cell_type": "code",
   "execution_count": 39,
   "metadata": {},
   "outputs": [],
   "source": [
    "for key, values in MOL_BITS.items():\n",
    "    m = create_minhash(values)\n",
    "    lsh.insert(key, m)"
   ]
  },
  {
   "cell_type": "code",
   "execution_count": 60,
   "metadata": {},
   "outputs": [],
   "source": [
    "# Função para encontrar keys similares\n",
    "def find_similar_keys(target_key, threshold=0.5):\n",
    "    target_minhash = create_minhash(MOL_BITS[target_key])\n",
    "    result = lsh.query(target_minhash)\n",
    "    toReturn = []\n",
    "    for key in result:\n",
    "        score = 1 - jaccard_distance(set(MOL_BITS[target_key]), set(MOL_BITS[key]))\n",
    "        if score > threshold:\n",
    "            toReturn.append({(target_key, key): score})\n",
    "\n",
    "    return sorted(toReturn, key=lambda x: list(x.values())[0], reverse=True)"
   ]
  },
  {
   "cell_type": "code",
   "execution_count": 64,
   "metadata": {},
   "outputs": [
    {
     "name": "stdout",
     "output_type": "stream",
     "text": [
      "{('CHEMBL2022243', 'CHEMBL2022243'): 1.0}\n",
      "{('CHEMBL2022243', 'CHEMBL2022244'): 0.8148148148148149}\n",
      "{('CHEMBL2022243', 'CHEMBL2022245'): 0.7951807228915663}\n",
      "{('CHEMBL2022243', 'CHEMBL2022249'): 0.7283950617283951}\n",
      "{('CHEMBL2022243', 'CHEMBL2022250'): 0.5531914893617021}\n",
      "{('CHEMBL2022243', 'CHEMBL2022251'): 0.5106382978723405}\n"
     ]
    }
   ],
   "source": [
    "# Exemplo de consulta para encontrar keys similares à 'key1'\n",
    "KEY =  \"CHEMBL2022243\"\n",
    "similar_keys = find_similar_keys(KEY)\n",
    "\n",
    "for d in similar_keys:\n",
    "    print(d)\n"
   ]
  }
 ],
 "metadata": {
  "kernelspec": {
   "display_name": "Python 3",
   "language": "python",
   "name": "python3"
  },
  "language_info": {
   "codemirror_mode": {
    "name": "ipython",
    "version": 3
   },
   "file_extension": ".py",
   "mimetype": "text/x-python",
   "name": "python",
   "nbconvert_exporter": "python",
   "pygments_lexer": "ipython3",
   "version": "3.11.2"
  }
 },
 "nbformat": 4,
 "nbformat_minor": 2
}
