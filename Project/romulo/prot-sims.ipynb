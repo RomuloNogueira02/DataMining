{
 "cells": [
  {
   "cell_type": "code",
   "execution_count": 1,
   "metadata": {},
   "outputs": [],
   "source": [
    "# imports\n",
    "import random\n",
    "\n",
    "import pandas as pd\n",
    "import numpy as np\n",
    "\n",
    "from helpers import *"
   ]
  },
  {
   "cell_type": "code",
   "execution_count": 2,
   "metadata": {},
   "outputs": [],
   "source": [
    "ACTIVITY_TRAIN = pd.read_csv('./activity_train.csv', names=['uniprot_id', 'mol_id', 'activity'])\n",
    "ACTIVITY_TRAIN[\"mol_id\"] = ACTIVITY_TRAIN[\"mol_id\"].apply(remove_blank_space)\n"
   ]
  },
  {
   "cell_type": "code",
   "execution_count": 3,
   "metadata": {},
   "outputs": [],
   "source": [
    "def RowCenterMatrix(M):\n",
    "    V  = M.T\n",
    "    mat= np.nanmean(V, axis=0)\n",
    "    VC = V - mat\n",
    "    VC[np.isnan(VC)]=0\n",
    "    return VC.T\n",
    "\n",
    "def create_rankingMatrix(rowLabel, colLabel, df):\n",
    "    rows = list(set(ACTIVITY_TRAIN[rowLabel])) \n",
    "    cols = list(map(lambda v: v.strip(), set(ACTIVITY_TRAIN[colLabel])))\n",
    "    n_rows = len(rows)\n",
    "    n_cols = len(cols)\n",
    "\n",
    "    rows = dict(zip(rows, np.arange(n_rows)))\n",
    "    cols = dict(zip(cols, np.arange(n_cols)))\n",
    "    mat = np.zeros((n_rows, n_cols))\n",
    "    # mat[mat==0]=np.nan\n",
    "    for rw in df.values:\n",
    "        mat[rows[rw[0]], cols[rw[1].strip()]]=rw[2]\n",
    "    return mat, rows, cols\n"
   ]
  },
  {
   "cell_type": "code",
   "execution_count": 4,
   "metadata": {},
   "outputs": [],
   "source": [
    "mat, prots, mols=create_rankingMatrix(\"uniprot_id\", \"mol_id\", ACTIVITY_TRAIN)\n",
    "mat_centered = RowCenterMatrix(mat)\n",
    "# pd.DataFrame(mat_centered, index=prots.keys(), columns=mols.keys())"
   ]
  },
  {
   "cell_type": "code",
   "execution_count": 5,
   "metadata": {},
   "outputs": [],
   "source": [
    "def CosSim_SingleRow(M, row_index):\n",
    "    # Extraia a linha especificada\n",
    "    target_row = M[row_index, :]\n",
    "    \n",
    "    # Calcule as normas de todas as linhas\n",
    "    norms = np.sqrt(np.sum(M * M, axis=1))\n",
    "    norms[norms < 0.001] = 0.001  # Solução para linhas ou colunas sem variância\n",
    "    \n",
    "    # Calcule a norma da linha alvo\n",
    "    target_norm = norms[row_index]\n",
    "    \n",
    "    # Calcule o produto escalar da linha alvo com todas as outras linhas\n",
    "    dot_products = np.dot(M, target_row)\n",
    "    \n",
    "    # Calcule a similaridade coseno dividindo pelo produto das normas\n",
    "    cos_similarities = dot_products / (norms * target_norm)\n",
    "    \n",
    "    return cos_similarities"
   ]
  },
  {
   "cell_type": "code",
   "execution_count": 6,
   "metadata": {},
   "outputs": [],
   "source": [
    "df = pd.DataFrame(CosSim_SingleRow(mat_centered, 0), index=prots.keys(), columns=['P20309'])"
   ]
  },
  {
   "cell_type": "code",
   "execution_count": 7,
   "metadata": {},
   "outputs": [],
   "source": [
    "df_filtrado = df[df['P20309'] > 0.5]"
   ]
  },
  {
   "cell_type": "code",
   "execution_count": 8,
   "metadata": {},
   "outputs": [
    {
     "data": {
      "text/plain": [
       "['P41145', 'P41143', 'P35372']"
      ]
     },
     "execution_count": 8,
     "metadata": {},
     "output_type": "execute_result"
    }
   ],
   "source": [
    "list(df_filtrado.index.values)"
   ]
  }
 ],
 "metadata": {
  "kernelspec": {
   "display_name": "Python 3",
   "language": "python",
   "name": "python3"
  },
  "language_info": {
   "codemirror_mode": {
    "name": "ipython",
    "version": 3
   },
   "file_extension": ".py",
   "mimetype": "text/x-python",
   "name": "python",
   "nbconvert_exporter": "python",
   "pygments_lexer": "ipython3",
   "version": "3.11.2"
  }
 },
 "nbformat": 4,
 "nbformat_minor": 2
}
