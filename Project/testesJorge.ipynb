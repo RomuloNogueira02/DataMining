{
 "cells": [
  {
   "cell_type": "code",
   "execution_count": 6,
   "metadata": {},
   "outputs": [
    {
     "name": "stdout",
     "output_type": "stream",
     "text": [
      "Activity Train Data\n",
      "   O14842   CHEMBL2022243   4\n",
      "0  O14842   CHEMBL2022244   6\n",
      "1  O14842   CHEMBL2022245   2\n",
      "2  O14842   CHEMBL2022246   1\n",
      "3  O14842   CHEMBL2022247   4\n",
      "4  O14842   CHEMBL2022248   4\n",
      "\n",
      "Activity Test Blanked Data\n",
      "   O14842   CHEMBL2022258  0\n",
      "0  O14842   CHEMBL2047161  0\n",
      "1  O14842   CHEMBL2047163  0\n",
      "2  O14842   CHEMBL2047168  0\n",
      "3  O14842   CHEMBL2047169  0\n",
      "4  O14842   CHEMBL2048621  0\n"
     ]
    }
   ],
   "source": [
    "import pandas as pd\n",
    "import pickle\n",
    "\n",
    "# Carregar os dados\n",
    "activity_train = pd.read_csv('./activity_train.csv')\n",
    "activity_test_blanked = pd.read_csv('./activity_test_blanked.csv')\n",
    "mol_bits = pd.read_pickle('./mol_bits.pkl')\n",
    "\n",
    "# with open(\"mol_bits.pkl\", \"rb\") as f:\n",
    "#     mol_bits = pickle.load(f)\n",
    "\n",
    "# Visualizar os dados\n",
    "print(\"Activity Train Data\")\n",
    "print(activity_train.head())\n",
    "\n",
    "print(\"\\nActivity Test Blanked Data\")\n",
    "print(activity_test_blanked.head())\n"
   ]
  },
  {
   "cell_type": "code",
   "execution_count": 8,
   "metadata": {},
   "outputs": [
    {
     "name": "stdout",
     "output_type": "stream",
     "text": [
      "Colunas de activity_train: Index(['O14842', ' CHEMBL2022243', ' 4'], dtype='object')\n"
     ]
    }
   ],
   "source": [
    "activity_train_columns = activity_train.columns\n",
    "print(\"Colunas de activity_train:\", activity_train_columns)"
   ]
  },
  {
   "cell_type": "code",
   "execution_count": null,
   "metadata": {},
   "outputs": [],
   "source": [
    "activity_train.fillna(0, inplace=True)\n",
    "activity_test_blanked.fillna(0, inplace=True)\n",
    "\n",
    "from sklearn.model_selection import train_test_split\n",
    "\n",
    "y = activity_train['activity']\n",
    "X = activity_train.drop(columns=['activity'])\n",
    "\n",
    "X_train, X_val, y_train, y_val = train_test_split(X, y, test_size=0.1, random_state=42)\n",
    "\n",
    "print(\"\\nDados prontos para treinamento e validação:\")\n",
    "print(f\"X_train shape: {X_train.shape}, y_train shape: {y_train.shape}\")\n",
    "print(f\"X_val shape: {X_val.shape}, y_val shape: {y_val.shape}\")"
   ]
  },
  {
   "cell_type": "code",
   "execution_count": null,
   "metadata": {},
   "outputs": [],
   "source": [
    "from surprise import Dataset, Reader, SVD\n",
    "from surprise.model_selection import cross_validate\n",
    "\n",
    "reader = Reader(rating_scale=(1, 10))\n",
    "data = Dataset.load_from_df(activity_train[['protein_id', 'molecule_id', 'activity']], reader)\n",
    "\n",
    "svd = SVD()\n",
    "\n",
    "cross_validate(svd, data, measures=['RMSE', 'MAE'], cv=5, verbose=True)\n",
    "\n",
    "trainset = data.build_full_trainset()\n",
    "svd.fit(trainset)\n",
    "\n",
    "activity_test_blanked['predicted_activity'] = activity_test_blanked.apply(\n",
    "    lambda x: svd.predict(x['protein_id'], x['molecule_id']).est, axis=1)\n",
    "\n",
    "activity_test_blanked[['protein_id', 'molecule_id', 'predicted_activity']].to_csv('/mnt/data/preds_01.txt', index=False)"
   ]
  }
 ],
 "metadata": {
  "kernelspec": {
   "display_name": "Python 3",
   "language": "python",
   "name": "python3"
  },
  "language_info": {
   "codemirror_mode": {
    "name": "ipython",
    "version": 3
   },
   "file_extension": ".py",
   "mimetype": "text/x-python",
   "name": "python",
   "nbconvert_exporter": "python",
   "pygments_lexer": "ipython3",
   "version": "3.11.5"
  }
 },
 "nbformat": 4,
 "nbformat_minor": 2
}
