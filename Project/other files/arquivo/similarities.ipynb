{
 "cells": [
  {
   "cell_type": "markdown",
   "metadata": {},
   "source": [
    "# Similarities between molecules\n",
    "\n",
    "So the goal of this notebook, is to use the fingerprints provided in the ```mol_bits.pkl``` to find similar molecules.\n",
    "\n",
    "The essential idea is to retrieve similar items from a database. We assume that these items are complex objects with a variable amout of features"
   ]
  },
  {
   "cell_type": "code",
   "execution_count": 1,
   "metadata": {},
   "outputs": [],
   "source": [
    "import pickle\n",
    "import matplotlib.pyplot as plt \n",
    "import numpy as np\n",
    "from datasketch import MinHash, MinHashLSH\n",
    "from nltk.metrics import jaccard_distance"
   ]
  },
  {
   "cell_type": "code",
   "execution_count": 2,
   "metadata": {},
   "outputs": [],
   "source": [
    "with open(\"../mol_bits.pkl\", \"rb\") as f:\n",
    "    MOL_BITS = pickle.load(f)"
   ]
  },
  {
   "cell_type": "code",
   "execution_count": 3,
   "metadata": {},
   "outputs": [],
   "source": [
    "# Função para criar MinHash a partir de uma lista de valores\n",
    "def create_minhash(values):\n",
    "    m = MinHash(num_perm=256)\n",
    "    for val in values:\n",
    "        m.update(str(val).encode('utf8'))\n",
    "    return m"
   ]
  },
  {
   "cell_type": "code",
   "execution_count": 4,
   "metadata": {},
   "outputs": [],
   "source": [
    "# Criar LSH\n",
    "lsh = MinHashLSH(threshold=0.5, num_perm=256)"
   ]
  },
  {
   "cell_type": "code",
   "execution_count": 5,
   "metadata": {},
   "outputs": [],
   "source": [
    "for key, values in MOL_BITS.items():\n",
    "    m = create_minhash(values)\n",
    "    lsh.insert(key, m)"
   ]
  },
  {
   "cell_type": "code",
   "execution_count": 6,
   "metadata": {},
   "outputs": [],
   "source": [
    "# Função para encontrar keys similares\n",
    "def find_similar_keys(target_key, threshold=0.5):\n",
    "    target_minhash = create_minhash(MOL_BITS[target_key])\n",
    "    result = lsh.query(target_minhash)\n",
    "    toReturn = []\n",
    "    for key in result:\n",
    "        score = 1 - jaccard_distance(set(MOL_BITS[target_key]), set(MOL_BITS[key]))\n",
    "        if score > threshold:\n",
    "            toReturn.append({(target_key, key): score})\n",
    "\n",
    "    return sorted(toReturn, key=lambda x: list(x.values())[0], reverse=True)"
   ]
  },
  {
   "cell_type": "code",
   "execution_count": 7,
   "metadata": {},
   "outputs": [
    {
     "name": "stdout",
     "output_type": "stream",
     "text": [
      "{('CHEMBL2022258', 'CHEMBL2022258'): 1.0}\n",
      "{('CHEMBL2022258', 'CHEMBL2022247'): 0.825}\n",
      "{('CHEMBL2022258', 'CHEMBL2022576'): 0.7816091954022988}\n",
      "{('CHEMBL2022258', 'CHEMBL2022577'): 0.7391304347826086}\n",
      "{('CHEMBL2022258', 'CHEMBL2047149'): 0.7391304347826086}\n",
      "{('CHEMBL2022258', 'CHEMBL2047150'): 0.7391304347826086}\n",
      "{('CHEMBL2022258', 'CHEMBL2047151'): 0.7311827956989247}\n",
      "{('CHEMBL2022258', 'CHEMBL2047153'): 0.7311827956989247}\n",
      "{('CHEMBL2022258', 'CHEMBL2047152'): 0.7311827956989247}\n",
      "{('CHEMBL2022258', 'CHEMBL1829174'): 0.7311827956989247}\n",
      "{('CHEMBL2022258', 'CHEMBL2179472'): 0.7311827956989247}\n",
      "{('CHEMBL2022258', 'CHEMBL2047155'): 0.7234042553191489}\n",
      "{('CHEMBL2022258', 'CHEMBL2047156'): 0.7234042553191489}\n",
      "{('CHEMBL2022258', 'CHEMBL2047158'): 0.7234042553191489}\n",
      "{('CHEMBL2022258', 'CHEMBL2047159'): 0.7234042553191489}\n",
      "{('CHEMBL2022258', 'CHEMBL2047154'): 0.7234042553191489}\n",
      "{('CHEMBL2022258', 'CHEMBL2047161'): 0.7083333333333333}\n",
      "{('CHEMBL2022258', 'CHEMBL2022257'): 0.7078651685393258}\n",
      "{('CHEMBL2022258', 'CHEMBL2047162'): 0.7010309278350515}\n",
      "{('CHEMBL2022258', 'CHEMBL2047157'): 0.6799999999999999}\n",
      "{('CHEMBL2022258', 'CHEMBL2022252'): 0.6666666666666667}\n",
      "{('CHEMBL2022258', 'CHEMBL2047160'): 0.6538461538461539}\n",
      "{('CHEMBL2022258', 'CHEMBL2047163'): 0.6415094339622642}\n",
      "{('CHEMBL2022258', 'CHEMBL2047165'): 0.64}\n",
      "{('CHEMBL2022258', 'CHEMBL2047166'): 0.6363636363636364}\n",
      "{('CHEMBL2022258', 'CHEMBL2047164'): 0.6363636363636364}\n",
      "{('CHEMBL2022258', 'CHEMBL2047167'): 0.6285714285714286}\n",
      "{('CHEMBL2022258', 'CHEMBL2047170'): 0.6176470588235294}\n",
      "{('CHEMBL2022258', 'CHEMBL2047168'): 0.6132075471698113}\n",
      "{('CHEMBL2022258', 'CHEMBL2047169'): 0.6132075471698113}\n",
      "{('CHEMBL2022258', 'CHEMBL2022254'): 0.6020408163265306}\n",
      "{('CHEMBL2022258', 'CHEMBL2022253'): 0.5742574257425743}\n",
      "{('CHEMBL2022258', 'CHEMBL2022256'): 0.5544554455445545}\n",
      "{('CHEMBL2022258', 'CHEMBL2022249'): 0.5106382978723405}\n"
     ]
    }
   ],
   "source": [
    "KEY =  \"CHEMBL2022258\"\n",
    "similar_keys = find_similar_keys(KEY)\n",
    "\n",
    "for d in similar_keys:\n",
    "    print(d)\n"
   ]
  }
 ],
 "metadata": {
  "kernelspec": {
   "display_name": "Python 3",
   "language": "python",
   "name": "python3"
  },
  "language_info": {
   "codemirror_mode": {
    "name": "ipython",
    "version": 3
   },
   "file_extension": ".py",
   "mimetype": "text/x-python",
   "name": "python",
   "nbconvert_exporter": "python",
   "pygments_lexer": "ipython3",
   "version": "3.11.2"
  }
 },
 "nbformat": 4,
 "nbformat_minor": 2
}
