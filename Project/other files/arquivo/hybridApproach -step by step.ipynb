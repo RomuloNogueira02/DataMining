{
 "cells": [
  {
   "cell_type": "markdown",
   "metadata": {},
   "source": [
    "# Using Collaborative Filtering algorithm"
   ]
  },
  {
   "cell_type": "markdown",
   "metadata": {},
   "source": [
    "**Objective**: Implement a hybrid method of Collaborative Filtering (using user-based and item-based)\n",
    "\n",
    "1. Pre process the data\n",
    "    - Load the data\n",
    "    - Select some lines to test our estimator\n",
    "    - Create a miniHashLsh where we can retrieve the K nearest neighbors of a molecule (based on Jaccard similarity).\n",
    "    - Create a activity matrix (prot x activity)\n",
    "    - Center the data (to be used in the user-based algorithm)\n",
    "\n",
    "2. Implement the user based algorithm\n",
    "    - Given a ```uniprot_id``` this algorithm should return the top 5 most similar proteins assuming a minimum of 0.5 similarity.\n",
    "\n",
    "3. Implement the item based algorithm\n",
    "    - Given a ```molecule_id```.\n",
    "    - Retrieve the K nearest neighbors of the molecule (Molecules most similar to the given molecule, that have an activity value for the proteins identified in the user-based algorithm)\n",
    "    - Estimate the activity level as weighted average.\n",
    "\n",
    "4. Test the estimator with the selected lines (notice that the line of the protein does not count as a neighbor, only as groundTruth).\n",
    "\n",
    "5. Make the predictions for the ```activity_test_blanked.csv``` file."
   ]
  },
  {
   "cell_type": "code",
   "execution_count": 1,
   "metadata": {},
   "outputs": [],
   "source": [
    "%load_ext autoreload\n",
    "%autoreload 2"
   ]
  },
  {
   "cell_type": "code",
   "execution_count": 2,
   "metadata": {},
   "outputs": [],
   "source": [
    "# imports\n",
    "import random\n",
    "import pickle\n",
    "\n",
    "import pandas as pd\n",
    "import numpy as np\n",
    "\n",
    "from helpers import *\n",
    "from datasketch import MinHash, MinHashLSH\n",
    "from nltk.metrics import jaccard_distance"
   ]
  },
  {
   "cell_type": "markdown",
   "metadata": {},
   "source": [
    "# 1. Pre process the data"
   ]
  },
  {
   "cell_type": "markdown",
   "metadata": {},
   "source": [
    "Load the data"
   ]
  },
  {
   "cell_type": "code",
   "execution_count": 3,
   "metadata": {},
   "outputs": [
    {
     "name": "stdout",
     "output_type": "stream",
     "text": [
      "Total molecules:  73865\n",
      "Total rows in the train dataset:  135711\n",
      "Total rows in the test dataset:  4628\n"
     ]
    }
   ],
   "source": [
    "with open(\"../mol_bits.pkl\", \"rb\") as f:\n",
    "    MOL_BITS = pickle.load(f)\n",
    "\n",
    "ACTIVITY_TRAIN = pd.read_csv('./activity_train.csv', names=['uniprot_id', 'mol_id', 'activity'])\n",
    "ACTIVITY_TRAIN[\"mol_id\"] = ACTIVITY_TRAIN[\"mol_id\"].apply(remove_blank_space)\n",
    "\n",
    "ACTIVITY_TEST = pd.read_csv('./activity_test_blanked.csv', names=['uniprot_id', 'mol_id', 'activity'])\n",
    "ACTIVITY_TEST[\"mol_id\"] = ACTIVITY_TEST[\"mol_id\"].apply(remove_blank_space)\n",
    "\n",
    "print(\"Total molecules: \", len(MOL_BITS))\n",
    "print(\"Total rows in the train dataset: \", len(ACTIVITY_TRAIN))\n",
    "print(\"Total rows in the test dataset: \", len(ACTIVITY_TEST))"
   ]
  },
  {
   "cell_type": "markdown",
   "metadata": {},
   "source": [
    "Select some lines to test our estimator (33% of the data)"
   ]
  },
  {
   "cell_type": "code",
   "execution_count": 4,
   "metadata": {},
   "outputs": [
    {
     "name": "stdout",
     "output_type": "stream",
     "text": [
      "Total rows in the validation dataset:  4112\n"
     ]
    },
    {
     "name": "stderr",
     "output_type": "stream",
     "text": [
      "C:\\Users\\romul\\AppData\\Local\\Temp\\ipykernel_6732\\3037102340.py:4: SettingWithCopyWarning: \n",
      "A value is trying to be set on a copy of a slice from a DataFrame.\n",
      "Try using .loc[row_indexer,col_indexer] = value instead\n",
      "\n",
      "See the caveats in the documentation: https://pandas.pydata.org/pandas-docs/stable/user_guide/indexing.html#returning-a-view-versus-a-copy\n",
      "  ACTIVITY_VAL[\"predicted\"] = [0] * len(ACTIVITY_VAL)\n"
     ]
    }
   ],
   "source": [
    "random.seed(42)\n",
    "random_indexes = random.sample(range(0, len(ACTIVITY_TRAIN)), len(ACTIVITY_TRAIN) // 33)\n",
    "ACTIVITY_VAL = ACTIVITY_TRAIN.iloc[random_indexes]\n",
    "ACTIVITY_VAL[\"predicted\"] = [0] * len(ACTIVITY_VAL)\n",
    "print(\"Total rows in the validation dataset: \", len(ACTIVITY_VAL))"
   ]
  },
  {
   "cell_type": "code",
   "execution_count": 5,
   "metadata": {},
   "outputs": [],
   "source": [
    "# Create MinHashLSH\n",
    "LSH = MinHashLSH(threshold=0.5, num_perm=256)\n",
    "\n",
    "# Create MinHash for each molecule\n",
    "def create_minhash(values):\n",
    "    m = MinHash(num_perm=256)\n",
    "    for val in values:\n",
    "        m.update(str(val).encode('utf8'))\n",
    "    return m\n",
    "\n",
    "# Insert MinHashes into LSH\n",
    "for key, values in MOL_BITS.items():\n",
    "    m = create_minhash(values)\n",
    "    LSH.insert(key, m)\n",
    "\n",
    "\"\"\"Find similar keys for a given target key\n",
    "\"\"\"\n",
    "def find_similar_keys(target_key, threshold=0.5):\n",
    "    target_minhash = create_minhash(MOL_BITS[target_key])\n",
    "    result = LSH.query(target_minhash)\n",
    "    toReturn = {}\n",
    "    for key in result:\n",
    "        if key == target_key:\n",
    "            continue\n",
    "        score = 1 - jaccard_distance(set(MOL_BITS[target_key]), set(MOL_BITS[key]))\n",
    "        if score > threshold:\n",
    "            toReturn[key] = score\n",
    "\n",
    "    return toReturn"
   ]
  },
  {
   "cell_type": "markdown",
   "metadata": {},
   "source": [
    "Create the activity matrix (prot x activity)"
   ]
  },
  {
   "cell_type": "code",
   "execution_count": 12,
   "metadata": {},
   "outputs": [],
   "source": [
    "def RowCenterMatrix(M):\n",
    "    V  = M.T\n",
    "    mat= np.nanmean(V, axis=0)\n",
    "    VC = V - mat\n",
    "    VC[np.isnan(VC)]=0\n",
    "    return VC.T\n",
    "\n",
    "def create_activityMatrix(rowLabel, colLabel, df):\n",
    "    rows = list(set(ACTIVITY_TRAIN[rowLabel]))\n",
    "    cols = list(set(ACTIVITY_TRAIN[colLabel]))\n",
    "    n_rows = len(rows)\n",
    "    n_cols = len(cols)\n",
    "\n",
    "    rows = dict(zip(rows, np.arange(n_rows)))\n",
    "    cols = dict(zip(cols, np.arange(n_cols)))\n",
    "    mat = np.zeros((n_rows, n_cols))\n",
    "    # mat[mat==0]=np.nan\n",
    "    for rw in df.values:\n",
    "        mat[rows[rw[0]], cols[rw[1]]]=rw[2]\n",
    "    return mat, rows, cols"
   ]
  },
  {
   "cell_type": "code",
   "execution_count": 13,
   "metadata": {},
   "outputs": [],
   "source": [
    "MAT, MAP_PROTS, MAP_MOLS=create_activityMatrix(\"uniprot_id\", \"mol_id\", ACTIVITY_TRAIN)\n",
    "MAT_CENTERED = RowCenterMatrix(MAT)"
   ]
  },
  {
   "cell_type": "code",
   "execution_count": 14,
   "metadata": {},
   "outputs": [],
   "source": [
    "def CosSim_SingleRow(M, row_index):\n",
    "    # Extraia a linha especificada\n",
    "    target_row = M[row_index, :]\n",
    "    \n",
    "    # Calcule as normas de todas as linhas\n",
    "    norms = np.sqrt(np.sum(M * M, axis=1))\n",
    "    norms[norms < 0.001] = 0.001  # Solução para linhas ou colunas sem variância\n",
    "    \n",
    "    # Calcule a norma da linha alvo\n",
    "    target_norm = norms[row_index]\n",
    "    \n",
    "    # Calcule o produto escalar da linha alvo com todas as outras linhas\n",
    "    dot_products = np.dot(M, target_row)\n",
    "    \n",
    "    # Calcule a similaridade coseno dividindo pelo produto das normas\n",
    "    cos_similarities = dot_products / (norms * target_norm)\n",
    "    \n",
    "    return cos_similarities"
   ]
  },
  {
   "cell_type": "markdown",
   "metadata": {},
   "source": [
    "----------------------------"
   ]
  },
  {
   "cell_type": "markdown",
   "metadata": {},
   "source": [
    "# 2. Implement the user based algorithm"
   ]
  },
  {
   "cell_type": "markdown",
   "metadata": {},
   "source": [
    "This algorith uses the ```unitprot_id``` and check in with ```Pearson Correlation Coefficient``` the similarity between the proteins, returning the top 5 most similar proteins."
   ]
  },
  {
   "cell_type": "code",
   "execution_count": 32,
   "metadata": {},
   "outputs": [],
   "source": [
    "def get_similar_prots(target_prot, threshold=0.5):\n",
    "    target_prot_index = MAP_PROTS[target_prot]\n",
    "    df = pd.DataFrame(CosSim_SingleRow(MAT_CENTERED, target_prot_index), index=MAP_PROTS.keys(), columns=[target_prot])\n",
    "    df_filtrado = df[df[target_prot] > threshold].sort_values(by=target_prot, ascending=False).head()\n",
    "    return df_filtrado.to_dict()[target_prot]"
   ]
  },
  {
   "cell_type": "markdown",
   "metadata": {},
   "source": [
    "# 3. Implement the item based algorithm"
   ]
  },
  {
   "cell_type": "code",
   "execution_count": 243,
   "metadata": {},
   "outputs": [],
   "source": [
    "use_case = ACTIVITY_VAL.iloc[222]\n",
    "knn = find_similar_keys(use_case[\"mol_id\"], threshold=0.5)"
   ]
  },
  {
   "cell_type": "code",
   "execution_count": 244,
   "metadata": {},
   "outputs": [
    {
     "data": {
      "text/plain": [
       "uniprot_id          P30968\n",
       "mol_id        CHEMBL176284\n",
       "activity                 5\n",
       "predicted                0\n",
       "Name: 69521, dtype: object"
      ]
     },
     "execution_count": 244,
     "metadata": {},
     "output_type": "execute_result"
    }
   ],
   "source": [
    "use_case"
   ]
  },
  {
   "cell_type": "code",
   "execution_count": 245,
   "metadata": {},
   "outputs": [],
   "source": [
    "similar_prots = get_similar_prots(use_case[\"uniprot_id\"])"
   ]
  },
  {
   "cell_type": "code",
   "execution_count": 246,
   "metadata": {},
   "outputs": [
    {
     "data": {
      "text/plain": [
       "{'P30968': 1.0000000000000082}"
      ]
     },
     "execution_count": 246,
     "metadata": {},
     "output_type": "execute_result"
    }
   ],
   "source": [
    "similar_prots"
   ]
  },
  {
   "cell_type": "code",
   "execution_count": 247,
   "metadata": {},
   "outputs": [],
   "source": [
    "uniprot_mols = set(ACTIVITY_TRAIN[ACTIVITY_TRAIN[\"uniprot_id\"].isin(similar_prots.keys())][\"mol_id\"].values)"
   ]
  },
  {
   "cell_type": "code",
   "execution_count": 248,
   "metadata": {},
   "outputs": [],
   "source": [
    "sim_mols = set(knn.keys())\n",
    "intercept_mols = sim_mols.intersection(uniprot_mols)"
   ]
  },
  {
   "cell_type": "code",
   "execution_count": 249,
   "metadata": {},
   "outputs": [
    {
     "data": {
      "text/html": [
       "<div>\n",
       "<style scoped>\n",
       "    .dataframe tbody tr th:only-of-type {\n",
       "        vertical-align: middle;\n",
       "    }\n",
       "\n",
       "    .dataframe tbody tr th {\n",
       "        vertical-align: top;\n",
       "    }\n",
       "\n",
       "    .dataframe thead th {\n",
       "        text-align: right;\n",
       "    }\n",
       "</style>\n",
       "<table border=\"1\" class=\"dataframe\">\n",
       "  <thead>\n",
       "    <tr style=\"text-align: right;\">\n",
       "      <th></th>\n",
       "      <th>uniprot_id</th>\n",
       "      <th>mol_id</th>\n",
       "      <th>activity</th>\n",
       "    </tr>\n",
       "  </thead>\n",
       "  <tbody>\n",
       "    <tr>\n",
       "      <th>69494</th>\n",
       "      <td>P30968</td>\n",
       "      <td>CHEMBL366701</td>\n",
       "      <td>6</td>\n",
       "    </tr>\n",
       "    <tr>\n",
       "      <th>69495</th>\n",
       "      <td>P30968</td>\n",
       "      <td>CHEMBL175821</td>\n",
       "      <td>5</td>\n",
       "    </tr>\n",
       "    <tr>\n",
       "      <th>69499</th>\n",
       "      <td>P30968</td>\n",
       "      <td>CHEMBL360447</td>\n",
       "      <td>5</td>\n",
       "    </tr>\n",
       "    <tr>\n",
       "      <th>69500</th>\n",
       "      <td>P30968</td>\n",
       "      <td>CHEMBL180421</td>\n",
       "      <td>3</td>\n",
       "    </tr>\n",
       "    <tr>\n",
       "      <th>69501</th>\n",
       "      <td>P30968</td>\n",
       "      <td>CHEMBL368153</td>\n",
       "      <td>4</td>\n",
       "    </tr>\n",
       "    <tr>\n",
       "      <th>69508</th>\n",
       "      <td>P30968</td>\n",
       "      <td>CHEMBL179023</td>\n",
       "      <td>6</td>\n",
       "    </tr>\n",
       "    <tr>\n",
       "      <th>69511</th>\n",
       "      <td>P30968</td>\n",
       "      <td>CHEMBL175491</td>\n",
       "      <td>5</td>\n",
       "    </tr>\n",
       "    <tr>\n",
       "      <th>69513</th>\n",
       "      <td>P30968</td>\n",
       "      <td>CHEMBL360472</td>\n",
       "      <td>3</td>\n",
       "    </tr>\n",
       "    <tr>\n",
       "      <th>69514</th>\n",
       "      <td>P30968</td>\n",
       "      <td>CHEMBL177523</td>\n",
       "      <td>6</td>\n",
       "    </tr>\n",
       "    <tr>\n",
       "      <th>69517</th>\n",
       "      <td>P30968</td>\n",
       "      <td>CHEMBL175869</td>\n",
       "      <td>5</td>\n",
       "    </tr>\n",
       "    <tr>\n",
       "      <th>69579</th>\n",
       "      <td>P30968</td>\n",
       "      <td>CHEMBL369723</td>\n",
       "      <td>5</td>\n",
       "    </tr>\n",
       "  </tbody>\n",
       "</table>\n",
       "</div>"
      ],
      "text/plain": [
       "      uniprot_id        mol_id  activity\n",
       "69494     P30968  CHEMBL366701         6\n",
       "69495     P30968  CHEMBL175821         5\n",
       "69499     P30968  CHEMBL360447         5\n",
       "69500     P30968  CHEMBL180421         3\n",
       "69501     P30968  CHEMBL368153         4\n",
       "69508     P30968  CHEMBL179023         6\n",
       "69511     P30968  CHEMBL175491         5\n",
       "69513     P30968  CHEMBL360472         3\n",
       "69514     P30968  CHEMBL177523         6\n",
       "69517     P30968  CHEMBL175869         5\n",
       "69579     P30968  CHEMBL369723         5"
      ]
     },
     "execution_count": 249,
     "metadata": {},
     "output_type": "execute_result"
    }
   ],
   "source": [
    "subset = ACTIVITY_TRAIN[ACTIVITY_TRAIN[\"mol_id\"].isin(intercept_mols) & ACTIVITY_TRAIN[\"uniprot_id\"].isin(similar_prots.keys())]\n",
    "subset"
   ]
  },
  {
   "cell_type": "code",
   "execution_count": 250,
   "metadata": {},
   "outputs": [
    {
     "data": {
      "text/plain": [
       "{'P30968': 1.0000000000000082}"
      ]
     },
     "execution_count": 250,
     "metadata": {},
     "output_type": "execute_result"
    }
   ],
   "source": [
    "similar_prots"
   ]
  },
  {
   "cell_type": "code",
   "execution_count": 251,
   "metadata": {},
   "outputs": [],
   "source": [
    "count = {d : {\"num\": 0, \"den\":0, \"weigth\": similar_prots[d]} for d in subset[\"uniprot_id\"].unique()} \n",
    "for i, row in subset.iterrows():\n",
    "    count[row[\"uniprot_id\"]][\"num\"] += knn[row[\"mol_id\"]] * row[\"activity\"]\n",
    "    count[row[\"uniprot_id\"]][\"den\"] += knn[row[\"mol_id\"]]\n"
   ]
  },
  {
   "cell_type": "code",
   "execution_count": 252,
   "metadata": {},
   "outputs": [],
   "source": [
    "final_num = 0\n",
    "final_den = 0\n",
    "for key in count.keys():\n",
    "    count[key][\"score\"] = round(count[key][\"num\"] / count[key][\"den\"])\n",
    "    final_num += count[key][\"score\"] * count[key][\"weigth\"]\n",
    "    final_den += count[key][\"weigth\"]\n",
    "\n",
    "final_score = round(final_num / final_den, 3)"
   ]
  },
  {
   "cell_type": "code",
   "execution_count": 253,
   "metadata": {},
   "outputs": [
    {
     "data": {
      "text/plain": [
       "5.0"
      ]
     },
     "execution_count": 253,
     "metadata": {},
     "output_type": "execute_result"
    }
   ],
   "source": [
    "final_score"
   ]
  },
  {
   "cell_type": "markdown",
   "metadata": {},
   "source": [
    "PARA AVALIAR SE O MODELO FOI CORRIDO COM INTEIROS"
   ]
  },
  {
   "cell_type": "code",
   "execution_count": 1,
   "metadata": {},
   "outputs": [],
   "source": [
    "# # Contando o número de linhas onde A == B\n",
    "# num_iguais = (ACTIVITY_VAL['activity'] == ACTIVITY_VAL['predicted']).sum()\n",
    "\n",
    "# # Contando o número de linhas onde A != B\n",
    "# num_diferentes = (ACTIVITY_VAL['activity'] != ACTIVITY_VAL['predicted']).sum()\n",
    "\n",
    "# num_diff_por_um = (abs(ACTIVITY_VAL['activity'] - ACTIVITY_VAL['predicted']) == 1).sum()\n",
    "# num_diff_por_dois = (abs(ACTIVITY_VAL['activity'] - ACTIVITY_VAL['predicted']) == 2).sum()\n",
    "\n",
    "# print(f\"Número de linhas onde activity == predicted: {num_iguais/len(ACTIVITY_VAL) * 100:.2f}%\")\n",
    "# print(f\"Número de linhas onde activity != predicted: {(num_diferentes)/len(ACTIVITY_VAL) * 100:.2f}%\")\n",
    "\n",
    "# print()\n",
    "\n",
    "# print(f\"Número de linhas onde |activity - predicted| == 1: {num_diff_por_um/len(ACTIVITY_VAL) * 100:.2f}%\")\n",
    "# print(f\"Número de linhas onde |activity - predicted| == 2: {num_diff_por_dois/len(ACTIVITY_VAL) * 100:.2f}%\")\n",
    "\n",
    "# print()\n",
    "\n",
    "# print(f\"Retirando diferenças por 1, falhados: {(num_diferentes - num_diff_por_um)/len(ACTIVITY_VAL) * 100:.2f}%\")\n",
    "# print(f\"Retirando diferenças por 1, acertados: {(num_iguais + num_diff_por_um)/len(ACTIVITY_VAL) * 100:.2f}%\")\n",
    "\n",
    "# print() \n",
    "\n",
    "# print(f\"Retirando diferenças por 1 e 2, falhados: {(num_diferentes - num_diff_por_dois - num_diff_por_um)/len(ACTIVITY_VAL) * 100:.2f}%\")\n",
    "# print(f\"Retirando diferenças por 1 e 2, acertados: {(num_iguais + num_diff_por_um + num_diff_por_dois)/len(ACTIVITY_VAL) * 100:.2f}%\")"
   ]
  }
 ],
 "metadata": {
  "kernelspec": {
   "display_name": "Python 3",
   "language": "python",
   "name": "python3"
  },
  "language_info": {
   "codemirror_mode": {
    "name": "ipython",
    "version": 3
   },
   "file_extension": ".py",
   "mimetype": "text/x-python",
   "name": "python",
   "nbconvert_exporter": "python",
   "pygments_lexer": "ipython3",
   "version": "3.11.4"
  }
 },
 "nbformat": 4,
 "nbformat_minor": 2
}
