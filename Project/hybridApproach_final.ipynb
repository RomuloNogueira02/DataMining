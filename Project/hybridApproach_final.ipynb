{
 "cells": [
  {
   "cell_type": "markdown",
   "metadata": {},
   "source": [
    "### Prospeção de Dados 2023/2024 - Course Project\n",
    "#### Professor: André Falcão\n",
    "#### Alunos: \n",
    "\n",
    "Catherine Prokhorov (62608) - 5 Hours <br>\n",
    "Guilherme Cepeda (62931) - 8 Hours <br>\n",
    "Jorge Aleluia (54549) - 5 Hours <br>\n",
    "Rómulo Nogueira (56935) - 9 Hours <br>"
   ]
  },
  {
   "cell_type": "markdown",
   "metadata": {},
   "source": [
    "## Hybrid Approach of Collaborative Filtering algorithm"
   ]
  },
  {
   "cell_type": "markdown",
   "metadata": {},
   "source": [
    "**Objective**: Implement a hybrid method of Collaborative Filtering (using user-based and item-based)\n",
    "\n",
    "1. Pre process the data\n",
    "    - Load the data\n",
    "    - Select some lines to test our estimator\n",
    "    - Create a miniHashLsh where we can retrieve the K nearest neighbors of a molecule (based on Jaccard similarity).\n",
    "    - Create a activity matrix (prot x activity)\n",
    "    - Center the data (to be used in the user-based algorithm)\n",
    "\n",
    "2. Implement the user based algorithm\n",
    "    - Given a ```uniprot_id``` this algorithm should return the top 5 most similar proteins assuming a minimum of 0.5 similarity.\n",
    "\n",
    "3. Implement the item based algorithm\n",
    "    - Given a ```molecule_id```.\n",
    "    - Retrieve the K nearest neighbors of the molecule (Molecules most similar to the given molecule, that have an activity value for the proteins identified in the user-based algorithm)\n",
    "    - Estimate the activity level as weighted average.\n",
    "\n",
    "4. Test the estimator with the selected lines (notice that the line of the protein does not count as a neighbor, only as groundTruth).\n",
    "\n",
    "5. Make the predictions for the ```activity_test_blanked.csv``` file."
   ]
  },
  {
   "cell_type": "code",
   "execution_count": 1,
   "metadata": {},
   "outputs": [],
   "source": [
    "%load_ext autoreload\n",
    "%autoreload 2"
   ]
  },
  {
   "cell_type": "code",
   "execution_count": 2,
   "metadata": {},
   "outputs": [],
   "source": [
    "# library \n",
    "import random\n",
    "import pickle\n",
    "\n",
    "import pandas as pd\n",
    "import numpy as np\n",
    "import matplotlib.pyplot as plt\n",
    "\n",
    "from helpers import *\n",
    "from datasketch import MinHash, MinHashLSH\n",
    "from nltk.metrics import jaccard_distance\n",
    "from sklearn.metrics import mean_squared_error"
   ]
  },
  {
   "cell_type": "markdown",
   "metadata": {},
   "source": [
    "## 1. Pre process the data"
   ]
  },
  {
   "cell_type": "code",
   "execution_count": 3,
   "metadata": {},
   "outputs": [
    {
     "name": "stdout",
     "output_type": "stream",
     "text": [
      "Total molecules:  73865\n",
      "Total rows in the train dataset:  135711\n",
      "Total rows in the test dataset:  4628\n"
     ]
    }
   ],
   "source": [
    "## Load the data\n",
    "with open(\"mol_bits.pkl\", \"rb\") as f:\n",
    "    MOL_BITS = pickle.load(f)\n",
    "\n",
    "ACTIVITY_TRAIN = pd.read_csv('activity_train.csv', names=['uniprot_id', 'mol_id', 'activity'])\n",
    "ACTIVITY_TRAIN[\"mol_id\"] = ACTIVITY_TRAIN[\"mol_id\"].apply(remove_blank_space)\n",
    "\n",
    "ACTIVITY_TEST = pd.read_csv('activity_test_blanked.csv', names=['uniprot_id', 'mol_id', 'activity'])\n",
    "ACTIVITY_TEST[\"mol_id\"] = ACTIVITY_TEST[\"mol_id\"].apply(remove_blank_space)\n",
    "\n",
    "print(\"Total molecules: \", len(MOL_BITS))\n",
    "print(\"Total rows in the train dataset: \", len(ACTIVITY_TRAIN))\n",
    "print(\"Total rows in the test dataset: \", len(ACTIVITY_TEST))"
   ]
  },
  {
   "cell_type": "code",
   "execution_count": 4,
   "metadata": {},
   "outputs": [
    {
     "name": "stdout",
     "output_type": "stream",
     "text": [
      "<class 'pandas.core.frame.DataFrame'>\n",
      "RangeIndex: 135711 entries, 0 to 135710\n",
      "Data columns (total 3 columns):\n",
      " #   Column      Non-Null Count   Dtype \n",
      "---  ------      --------------   ----- \n",
      " 0   uniprot_id  135711 non-null  object\n",
      " 1   mol_id      135711 non-null  object\n",
      " 2   activity    135711 non-null  int64 \n",
      "dtypes: int64(1), object(2)\n",
      "memory usage: 3.1+ MB\n"
     ]
    }
   ],
   "source": [
    "ACTIVITY_TRAIN.info()"
   ]
  },
  {
   "cell_type": "code",
   "execution_count": 5,
   "metadata": {},
   "outputs": [
    {
     "data": {
      "text/html": [
       "<div>\n",
       "<style scoped>\n",
       "    .dataframe tbody tr th:only-of-type {\n",
       "        vertical-align: middle;\n",
       "    }\n",
       "\n",
       "    .dataframe tbody tr th {\n",
       "        vertical-align: top;\n",
       "    }\n",
       "\n",
       "    .dataframe thead th {\n",
       "        text-align: right;\n",
       "    }\n",
       "</style>\n",
       "<table border=\"1\" class=\"dataframe\">\n",
       "  <thead>\n",
       "    <tr style=\"text-align: right;\">\n",
       "      <th></th>\n",
       "      <th>uniprot_id</th>\n",
       "      <th>mol_id</th>\n",
       "      <th>activity</th>\n",
       "    </tr>\n",
       "  </thead>\n",
       "  <tbody>\n",
       "    <tr>\n",
       "      <th>0</th>\n",
       "      <td>O14842</td>\n",
       "      <td>CHEMBL2022243</td>\n",
       "      <td>4</td>\n",
       "    </tr>\n",
       "    <tr>\n",
       "      <th>1</th>\n",
       "      <td>O14842</td>\n",
       "      <td>CHEMBL2022244</td>\n",
       "      <td>6</td>\n",
       "    </tr>\n",
       "    <tr>\n",
       "      <th>2</th>\n",
       "      <td>O14842</td>\n",
       "      <td>CHEMBL2022245</td>\n",
       "      <td>2</td>\n",
       "    </tr>\n",
       "    <tr>\n",
       "      <th>3</th>\n",
       "      <td>O14842</td>\n",
       "      <td>CHEMBL2022246</td>\n",
       "      <td>1</td>\n",
       "    </tr>\n",
       "    <tr>\n",
       "      <th>4</th>\n",
       "      <td>O14842</td>\n",
       "      <td>CHEMBL2022247</td>\n",
       "      <td>4</td>\n",
       "    </tr>\n",
       "    <tr>\n",
       "      <th>...</th>\n",
       "      <td>...</td>\n",
       "      <td>...</td>\n",
       "      <td>...</td>\n",
       "    </tr>\n",
       "    <tr>\n",
       "      <th>135706</th>\n",
       "      <td>Q9Y5Y4</td>\n",
       "      <td>CHEMBL4214909</td>\n",
       "      <td>6</td>\n",
       "    </tr>\n",
       "    <tr>\n",
       "      <th>135707</th>\n",
       "      <td>Q9Y5Y4</td>\n",
       "      <td>CHEMBL4218012</td>\n",
       "      <td>2</td>\n",
       "    </tr>\n",
       "    <tr>\n",
       "      <th>135708</th>\n",
       "      <td>Q9Y5Y4</td>\n",
       "      <td>CHEMBL4217503</td>\n",
       "      <td>7</td>\n",
       "    </tr>\n",
       "    <tr>\n",
       "      <th>135709</th>\n",
       "      <td>Q9Y5Y4</td>\n",
       "      <td>CHEMBL4204359</td>\n",
       "      <td>8</td>\n",
       "    </tr>\n",
       "    <tr>\n",
       "      <th>135710</th>\n",
       "      <td>Q9Y5Y4</td>\n",
       "      <td>CHEMBL4209228</td>\n",
       "      <td>6</td>\n",
       "    </tr>\n",
       "  </tbody>\n",
       "</table>\n",
       "<p>135711 rows × 3 columns</p>\n",
       "</div>"
      ],
      "text/plain": [
       "       uniprot_id         mol_id  activity\n",
       "0          O14842  CHEMBL2022243         4\n",
       "1          O14842  CHEMBL2022244         6\n",
       "2          O14842  CHEMBL2022245         2\n",
       "3          O14842  CHEMBL2022246         1\n",
       "4          O14842  CHEMBL2022247         4\n",
       "...           ...            ...       ...\n",
       "135706     Q9Y5Y4  CHEMBL4214909         6\n",
       "135707     Q9Y5Y4  CHEMBL4218012         2\n",
       "135708     Q9Y5Y4  CHEMBL4217503         7\n",
       "135709     Q9Y5Y4  CHEMBL4204359         8\n",
       "135710     Q9Y5Y4  CHEMBL4209228         6\n",
       "\n",
       "[135711 rows x 3 columns]"
      ]
     },
     "execution_count": 5,
     "metadata": {},
     "output_type": "execute_result"
    }
   ],
   "source": [
    "ACTIVITY_TRAIN"
   ]
  },
  {
   "cell_type": "code",
   "execution_count": 6,
   "metadata": {},
   "outputs": [
    {
     "name": "stdout",
     "output_type": "stream",
     "text": [
      "<class 'pandas.core.frame.DataFrame'>\n",
      "RangeIndex: 4628 entries, 0 to 4627\n",
      "Data columns (total 3 columns):\n",
      " #   Column      Non-Null Count  Dtype \n",
      "---  ------      --------------  ----- \n",
      " 0   uniprot_id  4628 non-null   object\n",
      " 1   mol_id      4628 non-null   object\n",
      " 2   activity    4628 non-null   int64 \n",
      "dtypes: int64(1), object(2)\n",
      "memory usage: 108.6+ KB\n"
     ]
    }
   ],
   "source": [
    "ACTIVITY_TEST.info()"
   ]
  },
  {
   "cell_type": "code",
   "execution_count": 7,
   "metadata": {},
   "outputs": [
    {
     "data": {
      "text/html": [
       "<div>\n",
       "<style scoped>\n",
       "    .dataframe tbody tr th:only-of-type {\n",
       "        vertical-align: middle;\n",
       "    }\n",
       "\n",
       "    .dataframe tbody tr th {\n",
       "        vertical-align: top;\n",
       "    }\n",
       "\n",
       "    .dataframe thead th {\n",
       "        text-align: right;\n",
       "    }\n",
       "</style>\n",
       "<table border=\"1\" class=\"dataframe\">\n",
       "  <thead>\n",
       "    <tr style=\"text-align: right;\">\n",
       "      <th></th>\n",
       "      <th>uniprot_id</th>\n",
       "      <th>mol_id</th>\n",
       "      <th>activity</th>\n",
       "    </tr>\n",
       "  </thead>\n",
       "  <tbody>\n",
       "    <tr>\n",
       "      <th>0</th>\n",
       "      <td>O14842</td>\n",
       "      <td>CHEMBL2022258</td>\n",
       "      <td>0</td>\n",
       "    </tr>\n",
       "    <tr>\n",
       "      <th>1</th>\n",
       "      <td>O14842</td>\n",
       "      <td>CHEMBL2047161</td>\n",
       "      <td>0</td>\n",
       "    </tr>\n",
       "    <tr>\n",
       "      <th>2</th>\n",
       "      <td>O14842</td>\n",
       "      <td>CHEMBL2047163</td>\n",
       "      <td>0</td>\n",
       "    </tr>\n",
       "    <tr>\n",
       "      <th>3</th>\n",
       "      <td>O14842</td>\n",
       "      <td>CHEMBL2047168</td>\n",
       "      <td>0</td>\n",
       "    </tr>\n",
       "    <tr>\n",
       "      <th>4</th>\n",
       "      <td>O14842</td>\n",
       "      <td>CHEMBL2047169</td>\n",
       "      <td>0</td>\n",
       "    </tr>\n",
       "    <tr>\n",
       "      <th>...</th>\n",
       "      <td>...</td>\n",
       "      <td>...</td>\n",
       "      <td>...</td>\n",
       "    </tr>\n",
       "    <tr>\n",
       "      <th>4623</th>\n",
       "      <td>Q9Y5Y4</td>\n",
       "      <td>CHEMBL4208314</td>\n",
       "      <td>0</td>\n",
       "    </tr>\n",
       "    <tr>\n",
       "      <th>4624</th>\n",
       "      <td>Q9Y5Y4</td>\n",
       "      <td>CHEMBL4205421</td>\n",
       "      <td>0</td>\n",
       "    </tr>\n",
       "    <tr>\n",
       "      <th>4625</th>\n",
       "      <td>Q9Y5Y4</td>\n",
       "      <td>CHEMBL4207935</td>\n",
       "      <td>0</td>\n",
       "    </tr>\n",
       "    <tr>\n",
       "      <th>4626</th>\n",
       "      <td>Q9Y5Y4</td>\n",
       "      <td>CHEMBL4208884</td>\n",
       "      <td>0</td>\n",
       "    </tr>\n",
       "    <tr>\n",
       "      <th>4627</th>\n",
       "      <td>Q9Y5Y4</td>\n",
       "      <td>CHEMBL4205802</td>\n",
       "      <td>0</td>\n",
       "    </tr>\n",
       "  </tbody>\n",
       "</table>\n",
       "<p>4628 rows × 3 columns</p>\n",
       "</div>"
      ],
      "text/plain": [
       "     uniprot_id         mol_id  activity\n",
       "0        O14842  CHEMBL2022258         0\n",
       "1        O14842  CHEMBL2047161         0\n",
       "2        O14842  CHEMBL2047163         0\n",
       "3        O14842  CHEMBL2047168         0\n",
       "4        O14842  CHEMBL2047169         0\n",
       "...         ...            ...       ...\n",
       "4623     Q9Y5Y4  CHEMBL4208314         0\n",
       "4624     Q9Y5Y4  CHEMBL4205421         0\n",
       "4625     Q9Y5Y4  CHEMBL4207935         0\n",
       "4626     Q9Y5Y4  CHEMBL4208884         0\n",
       "4627     Q9Y5Y4  CHEMBL4205802         0\n",
       "\n",
       "[4628 rows x 3 columns]"
      ]
     },
     "execution_count": 7,
     "metadata": {},
     "output_type": "execute_result"
    }
   ],
   "source": [
    "ACTIVITY_TEST"
   ]
  },
  {
   "cell_type": "markdown",
   "metadata": {},
   "source": [
    "##### 1.1 Select some lines to test our estimator (33% of the data)"
   ]
  },
  {
   "cell_type": "code",
   "execution_count": 8,
   "metadata": {},
   "outputs": [
    {
     "name": "stdout",
     "output_type": "stream",
     "text": [
      "Total rows in the validation dataset:  4112\n"
     ]
    },
    {
     "name": "stderr",
     "output_type": "stream",
     "text": [
      "C:\\Users\\romul\\AppData\\Local\\Temp\\ipykernel_2068\\3037102340.py:4: SettingWithCopyWarning: \n",
      "A value is trying to be set on a copy of a slice from a DataFrame.\n",
      "Try using .loc[row_indexer,col_indexer] = value instead\n",
      "\n",
      "See the caveats in the documentation: https://pandas.pydata.org/pandas-docs/stable/user_guide/indexing.html#returning-a-view-versus-a-copy\n",
      "  ACTIVITY_VAL[\"predicted\"] = [0] * len(ACTIVITY_VAL)\n"
     ]
    }
   ],
   "source": [
    "random.seed(42)\n",
    "random_indexes = random.sample(range(0, len(ACTIVITY_TRAIN)), len(ACTIVITY_TRAIN) // 33)\n",
    "ACTIVITY_VAL = ACTIVITY_TRAIN.iloc[random_indexes]\n",
    "ACTIVITY_VAL[\"predicted\"] = [0] * len(ACTIVITY_VAL)\n",
    "print(\"Total rows in the validation dataset: \", len(ACTIVITY_VAL))"
   ]
  },
  {
   "cell_type": "markdown",
   "metadata": {},
   "source": [
    "#### Plot an Histogram of the activity target variable"
   ]
  },
  {
   "cell_type": "code",
   "execution_count": 9,
   "metadata": {},
   "outputs": [
    {
     "data": {
      "image/png": "[encoded data removed]",
      "text/plain": [
       "<Figure size 500x500 with 1 Axes>"
      ]
     },
     "metadata": {},
     "output_type": "display_data"
    }
   ],
   "source": [
    "hist, bin_edges = np.histogram(ACTIVITY_TRAIN[\"activity\"], bins=50)\n",
    "plt.figure(figsize=(5,5))\n",
    "plt.hist(ACTIVITY_TRAIN[\"activity\"], bins=50)\n",
    "plt.title('Histogram of the activity target variable ')\n",
    "plt.ylabel('Number of Instances')\n",
    "plt.xlabel('Activity values')\n",
    "plt.show()"
   ]
  },
  {
   "cell_type": "code",
   "execution_count": 10,
   "metadata": {},
   "outputs": [],
   "source": [
    "# Create MinHashLSH\n",
    "LSH = MinHashLSH(threshold=0.5, num_perm=256)\n",
    "\n",
    "# Create MinHash for each molecule\n",
    "def create_minhash(values):\n",
    "    m = MinHash(num_perm=256)\n",
    "    for val in values:\n",
    "        m.update(str(val).encode('utf8'))\n",
    "    return m\n",
    "\n",
    "# Insert MinHashes into LSH\n",
    "for key, values in MOL_BITS.items():\n",
    "    m = create_minhash(values)\n",
    "    LSH.insert(key, m)\n",
    "\n",
    "\"\"\"Find similar keys for a given target key\n",
    "\"\"\"\n",
    "def find_similar_keys(target_key, threshold=0.5):\n",
    "    target_minhash = create_minhash(MOL_BITS[target_key])\n",
    "    result = LSH.query(target_minhash)\n",
    "    toReturn = {}\n",
    "    for key in result:\n",
    "        if key == target_key:\n",
    "            continue\n",
    "        score = 1 - jaccard_distance(set(MOL_BITS[target_key]), set(MOL_BITS[key]))\n",
    "        if score > threshold:\n",
    "            toReturn[key] = score\n",
    "\n",
    "    return toReturn"
   ]
  },
  {
   "cell_type": "markdown",
   "metadata": {},
   "source": [
    "##### 1.2 Create the activity matrix (prot x activity)"
   ]
  },
  {
   "cell_type": "code",
   "execution_count": 11,
   "metadata": {},
   "outputs": [],
   "source": [
    "# Support functions\n",
    "\n",
    "def RowCenterMatrix(M):\n",
    "    V  = M.T\n",
    "    mat= np.nanmean(V, axis=0)\n",
    "    VC = V - mat\n",
    "    VC[np.isnan(VC)]=0\n",
    "    return VC.T\n",
    "\n",
    "def create_activityMatrix(rowLabel, colLabel, df):\n",
    "    rows = list(set(ACTIVITY_TRAIN[rowLabel]))\n",
    "    cols = list(set(ACTIVITY_TRAIN[colLabel]))\n",
    "    n_rows = len(rows)\n",
    "    n_cols = len(cols)\n",
    "\n",
    "    rows = dict(zip(rows, np.arange(n_rows)))\n",
    "    cols = dict(zip(cols, np.arange(n_cols)))\n",
    "    mat = np.zeros((n_rows, n_cols))\n",
    "    # mat[mat==0]=np.nan\n",
    "    for rw in df.values:\n",
    "        mat[rows[rw[0]], cols[rw[1]]]=rw[2]\n",
    "    return mat, rows, cols"
   ]
  },
  {
   "cell_type": "code",
   "execution_count": 12,
   "metadata": {},
   "outputs": [],
   "source": [
    "MAT, MAP_PROTS, MAP_MOLS=create_activityMatrix(\"uniprot_id\", \"mol_id\", ACTIVITY_TRAIN)\n",
    "MAT_CENTERED = RowCenterMatrix(MAT)"
   ]
  },
  {
   "cell_type": "code",
   "execution_count": 13,
   "metadata": {},
   "outputs": [],
   "source": [
    "# Support function\n",
    "\n",
    "def CosSim_SingleRow(M, row_index):\n",
    "    # Extract he specific row\n",
    "    target_row = M[row_index, :]\n",
    "    \n",
    "    # Calculate the norms of all rows\n",
    "    norms = np.sqrt(np.sum(M * M, axis=1))\n",
    "    norms[norms < 0.001] = 0.001  # This solves the lines or columns without variance\n",
    "\n",
    "    # Calculate the norm of the target row\n",
    "    target_norm = norms[row_index]\n",
    "    \n",
    "    # Calculate the dot product of the target row with all other rows\n",
    "    dot_products = np.dot(M, target_row)\n",
    "    \n",
    "    # Calculate the similarity of the target row with all other rows\n",
    "    cos_similarities = dot_products / (norms * target_norm)\n",
    "    \n",
    "    return cos_similarities"
   ]
  },
  {
   "cell_type": "markdown",
   "metadata": {},
   "source": [
    "## 2. Implement the user based algorithm"
   ]
  },
  {
   "cell_type": "markdown",
   "metadata": {},
   "source": [
    "This algorithm uses the ```unitprot_id``` and check in with ```Pearson Correlation Coefficient``` the similarity between the proteins, returning the top 5 most similar proteins."
   ]
  },
  {
   "cell_type": "code",
   "execution_count": 14,
   "metadata": {},
   "outputs": [],
   "source": [
    "def get_similar_prots(target_prot, threshold=0.5):\n",
    "    target_prot_index = MAP_PROTS[target_prot]\n",
    "    df = pd.DataFrame(CosSim_SingleRow(MAT_CENTERED, target_prot_index), index=MAP_PROTS.keys(), columns=[target_prot])\n",
    "    df_filtrado = df[df[target_prot] > threshold].sort_values(by=target_prot, ascending=False).head()\n",
    "    return df_filtrado.to_dict()[target_prot]"
   ]
  },
  {
   "cell_type": "markdown",
   "metadata": {},
   "source": [
    "## 3. Implement the item based algorithm"
   ]
  },
  {
   "cell_type": "code",
   "execution_count": 15,
   "metadata": {},
   "outputs": [],
   "source": [
    "def global_mean(use_case:pd.Series):\n",
    "    subset = ACTIVITY_TRAIN[ACTIVITY_TRAIN[\"uniprot_id\"] == use_case[\"uniprot_id\"]]\n",
    "    return round(subset[\"activity\"].mean())\n",
    "\n",
    "def estimate_score(use_case: pd.Series, knn:dict, similar_prots: dict, INT = True):\n",
    "\n",
    "    # Retrieve the set of molecules that the protein has activity for\n",
    "    uniprot_mols = set(ACTIVITY_TRAIN[ACTIVITY_TRAIN[\"uniprot_id\"].isin(similar_prots.keys())][\"mol_id\"].values)\n",
    "\n",
    "    # Intercept the set of molecules that the protein has activity for and the set of molecules that are similar to the molecule\n",
    "    sim_mols = set(knn.keys())\n",
    "    intercept_mols = sim_mols.intersection(uniprot_mols)\n",
    "\n",
    "    # Get a subset of the training data that contains only the molecules that are similar to the molecule and the protein\n",
    "    subset = ACTIVITY_TRAIN[ACTIVITY_TRAIN[\"mol_id\"].isin(intercept_mols) & ACTIVITY_TRAIN[\"uniprot_id\"].isin(similar_prots.keys())]\n",
    "\n",
    "    # If the subset is empty, return the global mean\n",
    "    if knn == {} or intercept_mols == {} or subset.empty:\n",
    "        return global_mean(use_case)\n",
    "    \n",
    "    # Calculate the estimated score\n",
    "\n",
    "    # Create a dict for each similar protein that shares ate least one similar molecule (because they are going to have different weights in the final score)\n",
    "    count = {d : {\"num\": 0, \"den\":0, \"weigth\": similar_prots[d]} for d in subset[\"uniprot_id\"].unique()} \n",
    "\n",
    "    for _, row in subset.iterrows():\n",
    "        count[row[\"uniprot_id\"]][\"num\"] += knn[row[\"mol_id\"]] * row[\"activity\"]\n",
    "        count[row[\"uniprot_id\"]][\"den\"] += knn[row[\"mol_id\"]]\n",
    "\n",
    "    final_num = 0\n",
    "    final_den = 0\n",
    "    for key in count.keys():\n",
    "        count[key][\"score\"] = round(count[key][\"num\"] / count[key][\"den\"])\n",
    "        final_num += count[key][\"score\"] * count[key][\"weigth\"]\n",
    "        final_den += count[key][\"weigth\"]\n",
    "\n",
    "\n",
    "    if INT:\n",
    "        return round(final_num / final_den)\n",
    "    else:\n",
    "        return round(final_num / final_den, 3)"
   ]
  },
  {
   "cell_type": "markdown",
   "metadata": {},
   "source": [
    "## 4. Test on the validation set"
   ]
  },
  {
   "cell_type": "code",
   "execution_count": 16,
   "metadata": {},
   "outputs": [],
   "source": [
    "THRESHOLD_MOLS = 0.5\n",
    "THRESHOLD_PROTS = 0.75"
   ]
  },
  {
   "cell_type": "code",
   "execution_count": 17,
   "metadata": {},
   "outputs": [],
   "source": [
    "# with 33% of train to do the validation\n",
    "list_preds_val = []\n",
    "for i in range(len(ACTIVITY_VAL)):\n",
    "    # Get the use case\n",
    "    use_case = ACTIVITY_VAL.iloc[i]\n",
    "\n",
    "    # Find the similar molecules\n",
    "    knn = find_similar_keys(use_case[\"mol_id\"], threshold=THRESHOLD_MOLS)\n",
    "\n",
    "    # Find the similar proteins\n",
    "    similar_prots = get_similar_prots(use_case[\"uniprot_id\"], threshold=THRESHOLD_PROTS)\n",
    "\n",
    "    # Estimate the score\n",
    "    pred = estimate_score(use_case, knn, similar_prots, INT=False)\n",
    "    \n",
    "    # Append the prediction to the list\n",
    "    list_preds_val.append(pred)\n"
   ]
  },
  {
   "cell_type": "code",
   "execution_count": 18,
   "metadata": {},
   "outputs": [
    {
     "name": "stderr",
     "output_type": "stream",
     "text": [
      "C:\\Users\\romul\\AppData\\Local\\Temp\\ipykernel_2068\\3589990721.py:1: SettingWithCopyWarning: \n",
      "A value is trying to be set on a copy of a slice from a DataFrame.\n",
      "Try using .loc[row_indexer,col_indexer] = value instead\n",
      "\n",
      "See the caveats in the documentation: https://pandas.pydata.org/pandas-docs/stable/user_guide/indexing.html#returning-a-view-versus-a-copy\n",
      "  ACTIVITY_VAL[\"predicted\"] = list_preds_val\n"
     ]
    }
   ],
   "source": [
    "ACTIVITY_VAL[\"predicted\"] = list_preds_val"
   ]
  },
  {
   "cell_type": "code",
   "execution_count": 19,
   "metadata": {},
   "outputs": [
    {
     "data": {
      "text/html": [
       "<div>\n",
       "<style scoped>\n",
       "    .dataframe tbody tr th:only-of-type {\n",
       "        vertical-align: middle;\n",
       "    }\n",
       "\n",
       "    .dataframe tbody tr th {\n",
       "        vertical-align: top;\n",
       "    }\n",
       "\n",
       "    .dataframe thead th {\n",
       "        text-align: right;\n",
       "    }\n",
       "</style>\n",
       "<table border=\"1\" class=\"dataframe\">\n",
       "  <thead>\n",
       "    <tr style=\"text-align: right;\">\n",
       "      <th></th>\n",
       "      <th>uniprot_id</th>\n",
       "      <th>mol_id</th>\n",
       "      <th>activity</th>\n",
       "      <th>predicted</th>\n",
       "    </tr>\n",
       "  </thead>\n",
       "  <tbody>\n",
       "    <tr>\n",
       "      <th>29184</th>\n",
       "      <td>P20309</td>\n",
       "      <td>CHEMBL206127</td>\n",
       "      <td>4</td>\n",
       "      <td>4.000</td>\n",
       "    </tr>\n",
       "    <tr>\n",
       "      <th>6556</th>\n",
       "      <td>P08173</td>\n",
       "      <td>CHEMBL75880</td>\n",
       "      <td>3</td>\n",
       "      <td>4.000</td>\n",
       "    </tr>\n",
       "    <tr>\n",
       "      <th>72097</th>\n",
       "      <td>P32245</td>\n",
       "      <td>CHEMBL393789</td>\n",
       "      <td>5</td>\n",
       "      <td>8.000</td>\n",
       "    </tr>\n",
       "    <tr>\n",
       "      <th>64196</th>\n",
       "      <td>P30542</td>\n",
       "      <td>CHEMBL258755</td>\n",
       "      <td>1</td>\n",
       "      <td>1.000</td>\n",
       "    </tr>\n",
       "    <tr>\n",
       "      <th>58513</th>\n",
       "      <td>P29274</td>\n",
       "      <td>CHEMBL4566592</td>\n",
       "      <td>1</td>\n",
       "      <td>2.000</td>\n",
       "    </tr>\n",
       "    <tr>\n",
       "      <th>...</th>\n",
       "      <td>...</td>\n",
       "      <td>...</td>\n",
       "      <td>...</td>\n",
       "      <td>...</td>\n",
       "    </tr>\n",
       "    <tr>\n",
       "      <th>75096</th>\n",
       "      <td>P34969</td>\n",
       "      <td>CHEMBL2164342</td>\n",
       "      <td>5</td>\n",
       "      <td>8.000</td>\n",
       "    </tr>\n",
       "    <tr>\n",
       "      <th>15063</th>\n",
       "      <td>P0DMS8</td>\n",
       "      <td>CHEMBL375501</td>\n",
       "      <td>5</td>\n",
       "      <td>6.000</td>\n",
       "    </tr>\n",
       "    <tr>\n",
       "      <th>45946</th>\n",
       "      <td>P28222</td>\n",
       "      <td>CHEMBL1241546</td>\n",
       "      <td>9</td>\n",
       "      <td>9.429</td>\n",
       "    </tr>\n",
       "    <tr>\n",
       "      <th>129595</th>\n",
       "      <td>Q9H3N8</td>\n",
       "      <td>CHEMBL1915347</td>\n",
       "      <td>5</td>\n",
       "      <td>6.000</td>\n",
       "    </tr>\n",
       "    <tr>\n",
       "      <th>115073</th>\n",
       "      <td>P48039</td>\n",
       "      <td>CHEMBL1097525</td>\n",
       "      <td>8</td>\n",
       "      <td>7.029</td>\n",
       "    </tr>\n",
       "  </tbody>\n",
       "</table>\n",
       "<p>4112 rows × 4 columns</p>\n",
       "</div>"
      ],
      "text/plain": [
       "       uniprot_id         mol_id  activity  predicted\n",
       "29184      P20309   CHEMBL206127         4      4.000\n",
       "6556       P08173    CHEMBL75880         3      4.000\n",
       "72097      P32245   CHEMBL393789         5      8.000\n",
       "64196      P30542   CHEMBL258755         1      1.000\n",
       "58513      P29274  CHEMBL4566592         1      2.000\n",
       "...           ...            ...       ...        ...\n",
       "75096      P34969  CHEMBL2164342         5      8.000\n",
       "15063      P0DMS8   CHEMBL375501         5      6.000\n",
       "45946      P28222  CHEMBL1241546         9      9.429\n",
       "129595     Q9H3N8  CHEMBL1915347         5      6.000\n",
       "115073     P48039  CHEMBL1097525         8      7.029\n",
       "\n",
       "[4112 rows x 4 columns]"
      ]
     },
     "execution_count": 19,
     "metadata": {},
     "output_type": "execute_result"
    }
   ],
   "source": [
    "ACTIVITY_VAL"
   ]
  },
  {
   "cell_type": "markdown",
   "metadata": {},
   "source": [
    "#### Plot a graph for the predictions"
   ]
  },
  {
   "cell_type": "code",
   "execution_count": 20,
   "metadata": {},
   "outputs": [
    {
     "data": {
      "image/png": "[encoded data removed]",
      "text/plain": [
       "<Figure size 640x480 with 1 Axes>"
      ]
     },
     "metadata": {},
     "output_type": "display_data"
    }
   ],
   "source": [
    "# Visualization of the predictions vs the actual values\n",
    "plt.scatter(ACTIVITY_VAL[\"activity\"], ACTIVITY_VAL[\"predicted\"])\n",
    "plt.xlabel('Real Values')\n",
    "plt.ylabel('Predictions')\n",
    "plt.title('Predictions vs Actual Values')\n",
    "plt.show()\n"
   ]
  },
  {
   "cell_type": "markdown",
   "metadata": {},
   "source": [
    "##### Avaliar o modelo com  floats \n",
    "<!-- PARA AVALIAR SE O MODELO FOI CORRIDO COM FLOATS -->"
   ]
  },
  {
   "cell_type": "code",
   "execution_count": 21,
   "metadata": {},
   "outputs": [
    {
     "name": "stderr",
     "output_type": "stream",
     "text": [
      "C:\\Users\\romul\\AppData\\Local\\Temp\\ipykernel_2068\\3685725647.py:1: SettingWithCopyWarning: \n",
      "A value is trying to be set on a copy of a slice from a DataFrame.\n",
      "Try using .loc[row_indexer,col_indexer] = value instead\n",
      "\n",
      "See the caveats in the documentation: https://pandas.pydata.org/pandas-docs/stable/user_guide/indexing.html#returning-a-view-versus-a-copy\n",
      "  ACTIVITY_VAL[\"error\"] = diff_percent(ACTIVITY_VAL[\"activity\"], ACTIVITY_VAL[\"predicted\"])\n"
     ]
    }
   ],
   "source": [
    "ACTIVITY_VAL[\"error\"] = diff_percent(ACTIVITY_VAL[\"activity\"], ACTIVITY_VAL[\"predicted\"])"
   ]
  },
  {
   "cell_type": "code",
   "execution_count": 22,
   "metadata": {
    "scrolled": true
   },
   "outputs": [
    {
     "data": {
      "text/html": [
       "<div>\n",
       "<style scoped>\n",
       "    .dataframe tbody tr th:only-of-type {\n",
       "        vertical-align: middle;\n",
       "    }\n",
       "\n",
       "    .dataframe tbody tr th {\n",
       "        vertical-align: top;\n",
       "    }\n",
       "\n",
       "    .dataframe thead th {\n",
       "        text-align: right;\n",
       "    }\n",
       "</style>\n",
       "<table border=\"1\" class=\"dataframe\">\n",
       "  <thead>\n",
       "    <tr style=\"text-align: right;\">\n",
       "      <th></th>\n",
       "      <th>uniprot_id</th>\n",
       "      <th>mol_id</th>\n",
       "      <th>activity</th>\n",
       "      <th>predicted</th>\n",
       "      <th>error</th>\n",
       "    </tr>\n",
       "  </thead>\n",
       "  <tbody>\n",
       "    <tr>\n",
       "      <th>29184</th>\n",
       "      <td>P20309</td>\n",
       "      <td>CHEMBL206127</td>\n",
       "      <td>4</td>\n",
       "      <td>4.000</td>\n",
       "      <td>0.0</td>\n",
       "    </tr>\n",
       "    <tr>\n",
       "      <th>6556</th>\n",
       "      <td>P08173</td>\n",
       "      <td>CHEMBL75880</td>\n",
       "      <td>3</td>\n",
       "      <td>4.000</td>\n",
       "      <td>25.0</td>\n",
       "    </tr>\n",
       "    <tr>\n",
       "      <th>72097</th>\n",
       "      <td>P32245</td>\n",
       "      <td>CHEMBL393789</td>\n",
       "      <td>5</td>\n",
       "      <td>8.000</td>\n",
       "      <td>37.5</td>\n",
       "    </tr>\n",
       "    <tr>\n",
       "      <th>64196</th>\n",
       "      <td>P30542</td>\n",
       "      <td>CHEMBL258755</td>\n",
       "      <td>1</td>\n",
       "      <td>1.000</td>\n",
       "      <td>0.0</td>\n",
       "    </tr>\n",
       "    <tr>\n",
       "      <th>58513</th>\n",
       "      <td>P29274</td>\n",
       "      <td>CHEMBL4566592</td>\n",
       "      <td>1</td>\n",
       "      <td>2.000</td>\n",
       "      <td>50.0</td>\n",
       "    </tr>\n",
       "    <tr>\n",
       "      <th>...</th>\n",
       "      <td>...</td>\n",
       "      <td>...</td>\n",
       "      <td>...</td>\n",
       "      <td>...</td>\n",
       "      <td>...</td>\n",
       "    </tr>\n",
       "    <tr>\n",
       "      <th>75096</th>\n",
       "      <td>P34969</td>\n",
       "      <td>CHEMBL2164342</td>\n",
       "      <td>5</td>\n",
       "      <td>8.000</td>\n",
       "      <td>37.5</td>\n",
       "    </tr>\n",
       "    <tr>\n",
       "      <th>15063</th>\n",
       "      <td>P0DMS8</td>\n",
       "      <td>CHEMBL375501</td>\n",
       "      <td>5</td>\n",
       "      <td>6.000</td>\n",
       "      <td>16.7</td>\n",
       "    </tr>\n",
       "    <tr>\n",
       "      <th>45946</th>\n",
       "      <td>P28222</td>\n",
       "      <td>CHEMBL1241546</td>\n",
       "      <td>9</td>\n",
       "      <td>9.429</td>\n",
       "      <td>4.5</td>\n",
       "    </tr>\n",
       "    <tr>\n",
       "      <th>129595</th>\n",
       "      <td>Q9H3N8</td>\n",
       "      <td>CHEMBL1915347</td>\n",
       "      <td>5</td>\n",
       "      <td>6.000</td>\n",
       "      <td>16.7</td>\n",
       "    </tr>\n",
       "    <tr>\n",
       "      <th>115073</th>\n",
       "      <td>P48039</td>\n",
       "      <td>CHEMBL1097525</td>\n",
       "      <td>8</td>\n",
       "      <td>7.029</td>\n",
       "      <td>13.8</td>\n",
       "    </tr>\n",
       "  </tbody>\n",
       "</table>\n",
       "<p>4112 rows × 5 columns</p>\n",
       "</div>"
      ],
      "text/plain": [
       "       uniprot_id         mol_id  activity  predicted  error\n",
       "29184      P20309   CHEMBL206127         4      4.000    0.0\n",
       "6556       P08173    CHEMBL75880         3      4.000   25.0\n",
       "72097      P32245   CHEMBL393789         5      8.000   37.5\n",
       "64196      P30542   CHEMBL258755         1      1.000    0.0\n",
       "58513      P29274  CHEMBL4566592         1      2.000   50.0\n",
       "...           ...            ...       ...        ...    ...\n",
       "75096      P34969  CHEMBL2164342         5      8.000   37.5\n",
       "15063      P0DMS8   CHEMBL375501         5      6.000   16.7\n",
       "45946      P28222  CHEMBL1241546         9      9.429    4.5\n",
       "129595     Q9H3N8  CHEMBL1915347         5      6.000   16.7\n",
       "115073     P48039  CHEMBL1097525         8      7.029   13.8\n",
       "\n",
       "[4112 rows x 5 columns]"
      ]
     },
     "execution_count": 22,
     "metadata": {},
     "output_type": "execute_result"
    }
   ],
   "source": [
    "ACTIVITY_VAL"
   ]
  },
  {
   "cell_type": "code",
   "execution_count": 23,
   "metadata": {},
   "outputs": [
    {
     "name": "stdout",
     "output_type": "stream",
     "text": [
      "Number of rows with error <= 25%: 2505\n",
      "Number of rows with 25% < error <= 50%: 970\n",
      "Number of rows with error > 50%: 637\n",
      "\n",
      "Total number of rows: 4112\n",
      "\n",
      "In percentage:\n",
      "Number of rows with error <= 25%: 60.9%\n",
      "Number of rows with 25% < error <= 50%: 23.6%\n",
      "Number of rows with error > 50%: 15.5%\n"
     ]
    }
   ],
   "source": [
    "rows_error_less_or_equal_than_25 = ACTIVITY_VAL[ACTIVITY_VAL[\"error\"] <= 25]\n",
    "rows_error_less_or_equal_than_50_and_more_than_25 = ACTIVITY_VAL[(ACTIVITY_VAL[\"error\"] <= 50) & (ACTIVITY_VAL[\"error\"] > 25)]\n",
    "rows_error_more_than_50 = ACTIVITY_VAL[ACTIVITY_VAL[\"error\"] > 50] \n",
    "\n",
    "print(f\"Number of rows with error <= 25%: {len(rows_error_less_or_equal_than_25)}\")\n",
    "print(f\"Number of rows with 25% < error <= 50%: {len(rows_error_less_or_equal_than_50_and_more_than_25)}\")\n",
    "print(f\"Number of rows with error > 50%: {len(rows_error_more_than_50)}\")\n",
    "\n",
    "print()\n",
    "print(f\"Total number of rows: {len(ACTIVITY_VAL)}\")\n",
    "print()\n",
    "\n",
    "print(\"In percentage:\")\n",
    "print(f\"Number of rows with error <= 25%: {round(len(rows_error_less_or_equal_than_25) / len(ACTIVITY_VAL) * 100, 1)}%\")\n",
    "print(f\"Number of rows with 25% < error <= 50%: {round(len(rows_error_less_or_equal_than_50_and_more_than_25) / len(ACTIVITY_VAL) * 100,1)}%\")\n",
    "print(f\"Number of rows with error > 50%: {round(len(rows_error_more_than_50) / len(ACTIVITY_VAL) * 100, 1)}%\")"
   ]
  },
  {
   "cell_type": "code",
   "execution_count": 24,
   "metadata": {},
   "outputs": [
    {
     "data": {
      "image/png": "[encoded data removed]",
      "text/plain": [
       "<Figure size 500x500 with 1 Axes>"
      ]
     },
     "metadata": {},
     "output_type": "display_data"
    }
   ],
   "source": [
    "len_less_or_equal_25 = len(rows_error_less_or_equal_than_25)\n",
    "len_less_or_equal_50_more_than_25 = len(rows_error_less_or_equal_than_50_and_more_than_25)\n",
    "len_more_than_50 = len(rows_error_more_than_50)\n",
    "\n",
    "categories = ['<= 25%', '26% - 50%', '> 50%']\n",
    "counts = [len_less_or_equal_25, len_less_or_equal_50_more_than_25, len_more_than_50]\n",
    "\n",
    "plt.figure(figsize=(5, 5))\n",
    "plt.bar(categories, counts, color=['red', 'orange', 'green'])\n",
    "plt.xlabel('Error Bands')\n",
    "plt.ylabel('Number of Lines')\n",
    "plt.title('Number of Lines per Error Bands')\n",
    "plt.show()"
   ]
  },
  {
   "cell_type": "markdown",
   "metadata": {},
   "source": [
    "#### MSE\n",
    "\n",
    "Provavelmente apagamos resultado demasiado alto"
   ]
  },
  {
   "cell_type": "code",
   "execution_count": 25,
   "metadata": {},
   "outputs": [
    {
     "name": "stdout",
     "output_type": "stream",
     "text": [
      "Mean Squared Error: \n",
      "2.967\n"
     ]
    }
   ],
   "source": [
    "## mean squared error\n",
    "print(\"Mean Squared Error: \")\n",
    "print(round(mean_squared_error(ACTIVITY_VAL[\"activity\"], list_preds_val), 3))"
   ]
  },
  {
   "cell_type": "markdown",
   "metadata": {},
   "source": [
    "## 5. Evaluation on the Test set \n",
    "On the ```activity_test_blanked.csv``` file"
   ]
  },
  {
   "cell_type": "code",
   "execution_count": 26,
   "metadata": {},
   "outputs": [],
   "source": [
    "list_preds_test = []\n",
    "for i in range(len(ACTIVITY_TEST)):\n",
    "    # Get the use case\n",
    "    use_case = ACTIVITY_TEST.iloc[i]\n",
    "\n",
    "    # Find the similar molecules\n",
    "    knn = find_similar_keys(use_case[\"mol_id\"], threshold=THRESHOLD_MOLS)\n",
    "\n",
    "    # Find the similar proteins\n",
    "    similar_prots = get_similar_prots(use_case[\"uniprot_id\"], threshold=THRESHOLD_PROTS)\n",
    "\n",
    "    # Estimate the score\n",
    "    pred = estimate_score(use_case, knn, similar_prots, INT=False)\n",
    "    \n",
    "    # Append the prediction to the list\n",
    "    list_preds_test.append(pred)\n"
   ]
  },
  {
   "cell_type": "code",
   "execution_count": 27,
   "metadata": {},
   "outputs": [],
   "source": [
    "ACTIVITY_TEST[\"activity\"] = list_preds_test"
   ]
  },
  {
   "cell_type": "code",
   "execution_count": 28,
   "metadata": {},
   "outputs": [
    {
     "data": {
      "text/html": [
       "<div>\n",
       "<style scoped>\n",
       "    .dataframe tbody tr th:only-of-type {\n",
       "        vertical-align: middle;\n",
       "    }\n",
       "\n",
       "    .dataframe tbody tr th {\n",
       "        vertical-align: top;\n",
       "    }\n",
       "\n",
       "    .dataframe thead th {\n",
       "        text-align: right;\n",
       "    }\n",
       "</style>\n",
       "<table border=\"1\" class=\"dataframe\">\n",
       "  <thead>\n",
       "    <tr style=\"text-align: right;\">\n",
       "      <th></th>\n",
       "      <th>uniprot_id</th>\n",
       "      <th>mol_id</th>\n",
       "      <th>activity</th>\n",
       "    </tr>\n",
       "  </thead>\n",
       "  <tbody>\n",
       "    <tr>\n",
       "      <th>0</th>\n",
       "      <td>O14842</td>\n",
       "      <td>CHEMBL2022258</td>\n",
       "      <td>6.0</td>\n",
       "    </tr>\n",
       "    <tr>\n",
       "      <th>1</th>\n",
       "      <td>O14842</td>\n",
       "      <td>CHEMBL2047161</td>\n",
       "      <td>6.0</td>\n",
       "    </tr>\n",
       "    <tr>\n",
       "      <th>2</th>\n",
       "      <td>O14842</td>\n",
       "      <td>CHEMBL2047163</td>\n",
       "      <td>6.0</td>\n",
       "    </tr>\n",
       "    <tr>\n",
       "      <th>3</th>\n",
       "      <td>O14842</td>\n",
       "      <td>CHEMBL2047168</td>\n",
       "      <td>6.0</td>\n",
       "    </tr>\n",
       "    <tr>\n",
       "      <th>4</th>\n",
       "      <td>O14842</td>\n",
       "      <td>CHEMBL2047169</td>\n",
       "      <td>6.0</td>\n",
       "    </tr>\n",
       "    <tr>\n",
       "      <th>...</th>\n",
       "      <td>...</td>\n",
       "      <td>...</td>\n",
       "      <td>...</td>\n",
       "    </tr>\n",
       "    <tr>\n",
       "      <th>4623</th>\n",
       "      <td>Q9Y5Y4</td>\n",
       "      <td>CHEMBL4208314</td>\n",
       "      <td>7.0</td>\n",
       "    </tr>\n",
       "    <tr>\n",
       "      <th>4624</th>\n",
       "      <td>Q9Y5Y4</td>\n",
       "      <td>CHEMBL4205421</td>\n",
       "      <td>5.0</td>\n",
       "    </tr>\n",
       "    <tr>\n",
       "      <th>4625</th>\n",
       "      <td>Q9Y5Y4</td>\n",
       "      <td>CHEMBL4207935</td>\n",
       "      <td>7.0</td>\n",
       "    </tr>\n",
       "    <tr>\n",
       "      <th>4626</th>\n",
       "      <td>Q9Y5Y4</td>\n",
       "      <td>CHEMBL4208884</td>\n",
       "      <td>7.0</td>\n",
       "    </tr>\n",
       "    <tr>\n",
       "      <th>4627</th>\n",
       "      <td>Q9Y5Y4</td>\n",
       "      <td>CHEMBL4205802</td>\n",
       "      <td>8.0</td>\n",
       "    </tr>\n",
       "  </tbody>\n",
       "</table>\n",
       "<p>4628 rows × 3 columns</p>\n",
       "</div>"
      ],
      "text/plain": [
       "     uniprot_id         mol_id  activity\n",
       "0        O14842  CHEMBL2022258       6.0\n",
       "1        O14842  CHEMBL2047161       6.0\n",
       "2        O14842  CHEMBL2047163       6.0\n",
       "3        O14842  CHEMBL2047168       6.0\n",
       "4        O14842  CHEMBL2047169       6.0\n",
       "...         ...            ...       ...\n",
       "4623     Q9Y5Y4  CHEMBL4208314       7.0\n",
       "4624     Q9Y5Y4  CHEMBL4205421       5.0\n",
       "4625     Q9Y5Y4  CHEMBL4207935       7.0\n",
       "4626     Q9Y5Y4  CHEMBL4208884       7.0\n",
       "4627     Q9Y5Y4  CHEMBL4205802       8.0\n",
       "\n",
       "[4628 rows x 3 columns]"
      ]
     },
     "execution_count": 28,
     "metadata": {},
     "output_type": "execute_result"
    }
   ],
   "source": [
    "ACTIVITY_TEST"
   ]
  },
  {
   "cell_type": "markdown",
   "metadata": {},
   "source": [
    "#### Export the predictions to a .csv file"
   ]
  },
  {
   "cell_type": "code",
   "execution_count": 29,
   "metadata": {},
   "outputs": [],
   "source": [
    "predictions_df = ACTIVITY_TEST.copy()\n",
    "# Save predictions in a .csv file \n",
    "predictions_df.to_csv(\"PD_PREDS_01.csv\", sep=\";\", index=False)\n",
    "predictions_df.to_csv(\"PD_PREDS_01.txt\", sep=\";\", index=False)"
   ]
  }
 ],
 "metadata": {
  "kernelspec": {
   "display_name": "Python 3 (ipykernel)",
   "language": "python",
   "name": "python3"
  },
  "language_info": {
   "codemirror_mode": {
    "name": "ipython",
    "version": 3
   },
   "file_extension": ".py",
   "mimetype": "text/x-python",
   "name": "python",
   "nbconvert_exporter": "python",
   "pygments_lexer": "ipython3",
   "version": "3.11.2"
  }
 },
 "nbformat": 4,
 "nbformat_minor": 4
}
